{
 "cells": [
  {
   "cell_type": "code",
   "execution_count": null,
   "metadata": {},
   "outputs": [
    {
     "name": "stderr",
     "output_type": "stream",
     "text": [
      "Using TensorFlow backend.\n"
     ]
    }
   ],
   "source": [
    "%matplotlib inline\n",
    "import numpy as np\n",
    "import pandas as pd\n",
    "import kapre\n",
    "import keras\n",
    "import os\n",
    "import soundfile as sf\n",
    "import time\n",
    "import progressbar\n",
    "import gc\n",
    "import h5py"
   ]
  },
  {
   "cell_type": "code",
   "execution_count": 2,
   "metadata": {},
   "outputs": [],
   "source": [
    "# CONVOLUTIONAL NETWORK"
   ]
  },
  {
   "cell_type": "code",
   "execution_count": 3,
   "metadata": {},
   "outputs": [],
   "source": [
    "# Define a model whose first layer is a mel-spectrogram (from Kapre)\n",
    "from keras.models import Sequential\n",
    "from keras import layers\n",
    "from kapre.time_frequency import Melspectrogram\n",
    "from kapre.utils import Normalization2D\n",
    "from kapre.augmentation import AdditiveNoise"
   ]
  },
  {
   "cell_type": "code",
   "execution_count": 4,
   "metadata": {},
   "outputs": [],
   "source": [
    "# Code inspired by https://github.com/keunwoochoi/kapre\n",
    "input_shape = (1, 88200)\n",
    "sr = 44100\n",
    "\n",
    "model = Sequential()\n",
    "# A mel-spectrogram layer\n",
    "model.add(Melspectrogram(n_dft=512, n_hop=256, input_shape=input_shape,\n",
    "                         padding='same', sr=sr, n_mels=64,\n",
    "                         fmin=0.0, fmax=sr/2, power_melgram=1.0,\n",
    "                         return_decibel_melgram=False, trainable_fb=False,\n",
    "                         trainable_kernel=False,\n",
    "                         name='trainable_stft'))\n",
    "# Add some white noise\n",
    "model.add(AdditiveNoise(power=0.2))\n",
    "# Normalise it per-frequency\n",
    "model.add(Normalization2D(str_axis='batch')) # or 'channel', 'time', 'batch', 'data_sample'\n",
    "# Add convolution layers\n",
    "model.add(layers.Conv2D(16, (3, 3), activation = 'relu'))\n",
    "model.add(layers.Conv2D(16, (3, 3), activation = 'relu'))\n",
    "model.add(layers.MaxPooling2D((3,3)))\n",
    "model.add(layers.Dropout(rate=0.1))\n",
    "\n",
    "model.add(layers.Conv2D(32, (3, 3), activation = 'relu'))\n",
    "model.add(layers.Conv2D(32, (3, 3), activation = 'relu'))\n",
    "model.add(layers.MaxPooling2D((3,3)))\n",
    "model.add(layers.Dropout(rate=0.1))\n",
    "\n",
    "model.add(layers.Conv2D(64, (3, 3), activation = 'relu'))\n",
    "model.add(layers.MaxPooling2D((3,3)))\n",
    "model.add(layers.Dropout(rate=0.1))\n",
    "\n",
    "model.add(layers.Flatten())\n",
    "model.add(layers.Dense(5, activation='softmax'))"
   ]
  },
  {
   "cell_type": "code",
   "execution_count": 5,
   "metadata": {},
   "outputs": [],
   "source": [
    "# Load the training and validation data from hdf5\n",
    "training = h5py.File('/data/musicnet/hdf5/train_data.hdf5', 'r')\n",
    "validation = h5py.File('/data/musicnet/hdf5/val_data.hdf5', 'r')\n",
    "\n",
    "list(training.keys())\n",
    "training_data = training['data']\n",
    "training_targets = training['targets']\n",
    "\n",
    "list(validation.keys())\n",
    "validation_data = validation['data']\n",
    "validation_targets = validation['targets']"
   ]
  },
  {
   "cell_type": "code",
   "execution_count": 6,
   "metadata": {},
   "outputs": [],
   "source": [
    "# Compile model\n",
    "from keras import optimizers\n",
    "model.compile(optimizer = 'adam',\n",
    "              loss = 'categorical_crossentropy',\n",
    "              metrics=['accuracy'])"
   ]
  },
  {
   "cell_type": "code",
   "execution_count": 7,
   "metadata": {},
   "outputs": [
    {
     "name": "stdout",
     "output_type": "stream",
     "text": [
      "Train on 39472 samples, validate on 8089 samples\n",
      "Epoch 1/40\n",
      "39472/39472 [==============================] - 90s 2ms/step - loss: 1.2596 - acc: 0.5734 - val_loss: 1.1630 - val_acc: 0.6268\n",
      "Epoch 2/40\n",
      "39472/39472 [==============================] - 86s 2ms/step - loss: 1.1689 - acc: 0.5937 - val_loss: 1.0805 - val_acc: 0.6102\n",
      "Epoch 3/40\n",
      "39472/39472 [==============================] - 86s 2ms/step - loss: 1.0832 - acc: 0.6119 - val_loss: 1.0363 - val_acc: 0.6168\n",
      "Epoch 4/40\n",
      "39472/39472 [==============================] - 86s 2ms/step - loss: 1.0339 - acc: 0.6240 - val_loss: 0.9788 - val_acc: 0.6281\n",
      "Epoch 5/40\n",
      "39472/39472 [==============================] - 86s 2ms/step - loss: 0.9938 - acc: 0.6355 - val_loss: 0.9315 - val_acc: 0.6411\n",
      "Epoch 6/40\n",
      "39472/39472 [==============================] - 86s 2ms/step - loss: 0.9606 - acc: 0.6454 - val_loss: 0.9015 - val_acc: 0.6546\n",
      "Epoch 7/40\n",
      "39472/39472 [==============================] - 86s 2ms/step - loss: 0.9339 - acc: 0.6522 - val_loss: 0.8932 - val_acc: 0.6516\n",
      "Epoch 8/40\n",
      "39472/39472 [==============================] - 86s 2ms/step - loss: 0.9080 - acc: 0.6619 - val_loss: 0.8885 - val_acc: 0.6506\n",
      "Epoch 9/40\n",
      "39472/39472 [==============================] - 86s 2ms/step - loss: 0.8892 - acc: 0.6672 - val_loss: 0.8970 - val_acc: 0.6451\n",
      "Epoch 10/40\n",
      "39472/39472 [==============================] - 86s 2ms/step - loss: 0.8736 - acc: 0.6738 - val_loss: 0.9038 - val_acc: 0.6389\n",
      "Epoch 11/40\n",
      "39472/39472 [==============================] - 86s 2ms/step - loss: 0.8590 - acc: 0.6788 - val_loss: 0.8448 - val_acc: 0.6713\n",
      "Epoch 12/40\n",
      "39472/39472 [==============================] - 86s 2ms/step - loss: 0.8464 - acc: 0.6828 - val_loss: 0.8709 - val_acc: 0.6588\n",
      "Epoch 13/40\n",
      "39472/39472 [==============================] - 86s 2ms/step - loss: 0.8337 - acc: 0.6873 - val_loss: 0.8757 - val_acc: 0.6594\n",
      "Epoch 14/40\n",
      "39472/39472 [==============================] - 86s 2ms/step - loss: 0.8272 - acc: 0.6905 - val_loss: 0.8649 - val_acc: 0.6668\n",
      "Epoch 15/40\n",
      "39472/39472 [==============================] - 86s 2ms/step - loss: 0.8154 - acc: 0.6936 - val_loss: 0.8963 - val_acc: 0.6485\n",
      "Epoch 16/40\n",
      "39472/39472 [==============================] - 86s 2ms/step - loss: 0.8113 - acc: 0.6944 - val_loss: 0.8153 - val_acc: 0.6878\n",
      "Epoch 17/40\n",
      "39472/39472 [==============================] - 86s 2ms/step - loss: 0.7990 - acc: 0.6999 - val_loss: 0.8444 - val_acc: 0.6671\n",
      "Epoch 18/40\n",
      "39472/39472 [==============================] - 86s 2ms/step - loss: 0.7952 - acc: 0.7004 - val_loss: 0.8507 - val_acc: 0.6804\n",
      "Epoch 19/40\n",
      "39472/39472 [==============================] - 86s 2ms/step - loss: 0.7887 - acc: 0.7020 - val_loss: 0.8715 - val_acc: 0.6635\n",
      "Epoch 20/40\n",
      "39472/39472 [==============================] - 86s 2ms/step - loss: 0.7818 - acc: 0.7076 - val_loss: 0.8609 - val_acc: 0.6814\n",
      "Epoch 21/40\n",
      "39472/39472 [==============================] - 86s 2ms/step - loss: 0.7774 - acc: 0.7055 - val_loss: 0.8479 - val_acc: 0.6924\n",
      "Epoch 22/40\n",
      "39472/39472 [==============================] - 86s 2ms/step - loss: 0.7743 - acc: 0.7097 - val_loss: 0.8479 - val_acc: 0.6825\n",
      "Epoch 23/40\n",
      "39472/39472 [==============================] - 86s 2ms/step - loss: 0.7615 - acc: 0.7140 - val_loss: 0.8343 - val_acc: 0.6877\n",
      "Epoch 24/40\n",
      "39472/39472 [==============================] - 86s 2ms/step - loss: 0.7587 - acc: 0.7158 - val_loss: 0.8483 - val_acc: 0.6866\n",
      "Epoch 25/40\n",
      "39472/39472 [==============================] - 86s 2ms/step - loss: 0.7245 - acc: 0.7280 - val_loss: 0.8687 - val_acc: 0.6876\n",
      "Epoch 26/40\n",
      "39472/39472 [==============================] - 86s 2ms/step - loss: 0.7207 - acc: 0.7284 - val_loss: 0.8687 - val_acc: 0.6893\n",
      "Epoch 27/40\n",
      "39472/39472 [==============================] - 86s 2ms/step - loss: 0.7153 - acc: 0.7280 - val_loss: 0.8696 - val_acc: 0.6881\n",
      "Epoch 28/40\n",
      "39472/39472 [==============================] - 86s 2ms/step - loss: 0.7138 - acc: 0.7317 - val_loss: 0.8830 - val_acc: 0.6855\n",
      "Epoch 29/40\n",
      "39472/39472 [==============================] - 86s 2ms/step - loss: 0.7151 - acc: 0.7291 - val_loss: 0.8824 - val_acc: 0.6828\n",
      "Epoch 30/40\n",
      "39472/39472 [==============================] - 86s 2ms/step - loss: 0.7092 - acc: 0.7316 - val_loss: 0.8892 - val_acc: 0.6808\n"
     ]
    }
   ],
   "source": [
    "file_path=\"/home/ubuntu/code/trained_model/music/music-weights-improvement-{epoch:02d}-{val_loss:.4f}-{val_acc:.2f}.hdf5\"\n",
    "tensorboard_path = \"/home/ubuntu/code/tensorboard/\"\n",
    "\n",
    "callbacks_list = [\n",
    "        keras.callbacks.EarlyStopping(monitor='acc', patience=2,),\n",
    "        keras.callbacks.ModelCheckpoint(filepath=file_path, monitor='val_loss', save_best_only=True,),\n",
    "        keras.callbacks.ReduceLROnPlateau(monitor='val_loss', factor=0.1, patience=8,),\n",
    "        keras.callbacks.TensorBoard(log_dir=tensorboard_path, batch_size=32,)]\n",
    "\n",
    "history = model.fit(training_data, \n",
    "                    training_targets,\n",
    "                    epochs = 40,\n",
    "                    batch_size = 100,\n",
    "                    callbacks=callbacks_list,\n",
    "                    validation_data=(validation_data, validation_targets),\n",
    "                    shuffle=False)"
   ]
  },
  {
   "cell_type": "code",
   "execution_count": 8,
   "metadata": {},
   "outputs": [
    {
     "data": {
      "image/png": "[encoded data removed]",
      "text/plain": [
       "<Figure size 432x288 with 1 Axes>"
      ]
     },
     "metadata": {},
     "output_type": "display_data"
    }
   ],
   "source": [
    "import matplotlib.pyplot as plt\n",
    "import matplotlib.gridspec as gridspec\n",
    "\n",
    "# Total Loss\n",
    "loss = history.history['loss']\n",
    "val_loss = history.history['val_loss']\n",
    "epochs = range(1, len(loss) + 1)\n",
    "plt.plot(epochs, loss, 'bo', label='Training loss')\n",
    "plt.plot(epochs, val_loss, 'b', label='Validation loss')\n",
    "plt.title('Joint - Training and validation loss')\n",
    "plt.xlabel('Epochs')\n",
    "plt.ylabel('Loss')\n",
    "plt.legend()\n",
    "plt.show()"
   ]
  },
  {
   "cell_type": "code",
   "execution_count": 9,
   "metadata": {},
   "outputs": [
    {
     "data": {
      "image/png": "[encoded data removed]",
      "text/plain": [
       "<Figure size 432x288 with 1 Axes>"
      ]
     },
     "metadata": {},
     "output_type": "display_data"
    }
   ],
   "source": [
    "acc = history.history['acc']\n",
    "val_acc = history.history['val_acc']\n",
    "epochs = range(1, len(loss) + 1)\n",
    "plt.subplots(1)\n",
    "plt.plot(epochs, acc, 'bo', label='Training accuracy')\n",
    "plt.plot(epochs, val_acc, 'b', label='Validation accuracy')\n",
    "plt.title('Gender - Training and validation accuracy')\n",
    "plt.xlabel('Epochs')\n",
    "plt.ylabel('Loss')\n",
    "plt.legend()\n",
    "plt.show()"
   ]
  },
  {
   "cell_type": "code",
   "execution_count": 10,
   "metadata": {},
   "outputs": [],
   "source": [
    "# Do test predictions and compare performance with baseline\n",
    "test = h5py.File('/data/musicnet/hdf5/test_data.hdf5', 'r')\n",
    "\n",
    "list(test.keys())\n",
    "test_data = test['data']\n",
    "test_targets = test['targets']"
   ]
  },
  {
   "cell_type": "code",
   "execution_count": 11,
   "metadata": {},
   "outputs": [
    {
     "data": {
      "text/plain": [
       "(39472, 5)"
      ]
     },
     "execution_count": 11,
     "metadata": {},
     "output_type": "execute_result"
    }
   ],
   "source": [
    "training_targets.shape"
   ]
  },
  {
   "cell_type": "code",
   "execution_count": 12,
   "metadata": {},
   "outputs": [],
   "source": [
    "test_predictions = model.predict(test_data)"
   ]
  },
  {
   "cell_type": "code",
   "execution_count": 13,
   "metadata": {},
   "outputs": [],
   "source": [
    "test_predicted_labels = np.argmax(test_predictions, axis=1)\n",
    "test_target_labels = np.argmax(test_targets, axis=1)"
   ]
  },
  {
   "cell_type": "code",
   "execution_count": 14,
   "metadata": {
    "scrolled": true
   },
   "outputs": [
    {
     "name": "stdout",
     "output_type": "stream",
     "text": [
      "Accuracy  0.6434733257661748\n",
      "             precision    recall  f1-score   support\n",
      "\n",
      "          0       0.63      0.80      0.70       905\n",
      "          1       0.67      0.83      0.75      4889\n",
      "          2       0.50      0.33      0.40       810\n",
      "          3       0.61      0.23      0.33       835\n",
      "          4       0.53      0.31      0.39      1371\n",
      "\n",
      "avg / total       0.63      0.64      0.61      8810\n",
      "\n"
     ]
    }
   ],
   "source": [
    "from sklearn.metrics import accuracy_score, roc_auc_score, classification_report\n",
    "print('Accuracy ', accuracy_score(test_target_labels, test_predicted_labels))\n",
    "print(classification_report(test_target_labels, test_predicted_labels))"
   ]
  },
  {
   "cell_type": "code",
   "execution_count": 15,
   "metadata": {},
   "outputs": [],
   "source": [
    "# Compare with baseline classifier (in this case we pick the most popular class)\n",
    "most_popular = np.argmax(np.bincount(test_target_labels))"
   ]
  },
  {
   "cell_type": "code",
   "execution_count": 16,
   "metadata": {},
   "outputs": [],
   "source": [
    "baseline_prediction = np.repeat(most_popular, test_target_labels.shape[0])"
   ]
  },
  {
   "cell_type": "code",
   "execution_count": 17,
   "metadata": {},
   "outputs": [
    {
     "name": "stdout",
     "output_type": "stream",
     "text": [
      "Accuracy  0.5549375709421113\n",
      "             precision    recall  f1-score   support\n",
      "\n",
      "          0       0.00      0.00      0.00       905\n",
      "          1       0.55      1.00      0.71      4889\n",
      "          2       0.00      0.00      0.00       810\n",
      "          3       0.00      0.00      0.00       835\n",
      "          4       0.00      0.00      0.00      1371\n",
      "\n",
      "avg / total       0.31      0.55      0.40      8810\n",
      "\n"
     ]
    },
    {
     "name": "stderr",
     "output_type": "stream",
     "text": [
      "/home/ubuntu/anaconda3/envs/tensorflow_p36/lib/python3.6/site-packages/sklearn/metrics/classification.py:1135: UndefinedMetricWarning: Precision and F-score are ill-defined and being set to 0.0 in labels with no predicted samples.\n",
      "  'precision', 'predicted', average, warn_for)\n"
     ]
    }
   ],
   "source": [
    "print('Accuracy ', accuracy_score(test_target_labels, baseline_prediction))\n",
    "print(classification_report(test_target_labels, baseline_prediction))"
   ]
  },
  {
   "cell_type": "code",
   "execution_count": 20,
   "metadata": {},
   "outputs": [],
   "source": [
    "# Compare with baseline classifier (predicting randomly based on popularity of each class)\n",
    "unique, counts = np.unique(test_target_labels, return_counts=True)\n",
    "props = counts / sum(counts)\n",
    "random_predictions = np.random.choice(5, test_target_labels.shape[0], props.any())"
   ]
  },
  {
   "cell_type": "code",
   "execution_count": 21,
   "metadata": {},
   "outputs": [
    {
     "name": "stdout",
     "output_type": "stream",
     "text": [
      "Accuracy  0.2\n",
      "             precision    recall  f1-score   support\n",
      "\n",
      "          0       0.11      0.21      0.14       905\n",
      "          1       0.56      0.20      0.30      4889\n",
      "          2       0.09      0.21      0.13       810\n",
      "          3       0.10      0.20      0.13       835\n",
      "          4       0.14      0.18      0.16      1371\n",
      "\n",
      "avg / total       0.36      0.20      0.23      8810\n",
      "\n"
     ]
    }
   ],
   "source": [
    "print('Accuracy ', accuracy_score(test_target_labels, random_predictions))\n",
    "print(classification_report(test_target_labels, random_predictions))"
   ]
  }
 ],
 "metadata": {
  "kernelspec": {
   "display_name": "Python [conda env:tensorflow_p36]",
   "language": "python",
   "name": "conda-env-tensorflow_p36-py"
  },
  "language_info": {
   "codemirror_mode": {
    "name": "ipython",
    "version": 3
   },
   "file_extension": ".py",
   "mimetype": "text/x-python",
   "name": "python",
   "nbconvert_exporter": "python",
   "pygments_lexer": "ipython3",
   "version": "3.6.5"
  }
 },
 "nbformat": 4,
 "nbformat_minor": 2
}
