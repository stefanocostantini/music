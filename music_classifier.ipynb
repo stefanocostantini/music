{
 "cells": [
  {
   "cell_type": "code",
   "execution_count": 1,
   "metadata": {},
   "outputs": [
    {
     "name": "stderr",
     "output_type": "stream",
     "text": [
      "Using TensorFlow backend.\n"
     ]
    }
   ],
   "source": [
    "%matplotlib inline\n",
    "import numpy as np\n",
    "import pandas as pd\n",
    "import kapre\n",
    "import keras\n",
    "import os\n",
    "import soundfile as sf\n",
    "import time\n",
    "import progressbar\n",
    "import gc\n",
    "import h5py"
   ]
  },
  {
   "cell_type": "code",
   "execution_count": 2,
   "metadata": {},
   "outputs": [],
   "source": [
    "# Load metadata to extract labels\n",
    "metadata = pd.read_csv('/data/music/musicnet/metadata.csv')"
   ]
  },
  {
   "cell_type": "code",
   "execution_count": 3,
   "metadata": {},
   "outputs": [
    {
     "data": {
      "text/html": [
       "<div>\n",
       "<style scoped>\n",
       "    .dataframe tbody tr th:only-of-type {\n",
       "        vertical-align: middle;\n",
       "    }\n",
       "\n",
       "    .dataframe tbody tr th {\n",
       "        vertical-align: top;\n",
       "    }\n",
       "\n",
       "    .dataframe thead th {\n",
       "        text-align: right;\n",
       "    }\n",
       "</style>\n",
       "<table border=\"1\" class=\"dataframe\">\n",
       "  <thead>\n",
       "    <tr style=\"text-align: right;\">\n",
       "      <th></th>\n",
       "      <th>id</th>\n",
       "      <th>composer</th>\n",
       "      <th>composition</th>\n",
       "      <th>movement</th>\n",
       "      <th>ensemble</th>\n",
       "      <th>source</th>\n",
       "      <th>transcriber</th>\n",
       "      <th>catalog_name</th>\n",
       "      <th>seconds</th>\n",
       "    </tr>\n",
       "  </thead>\n",
       "  <tbody>\n",
       "    <tr>\n",
       "      <th>0</th>\n",
       "      <td>1727</td>\n",
       "      <td>Schubert</td>\n",
       "      <td>Piano Quintet in A major</td>\n",
       "      <td>2. Andante</td>\n",
       "      <td>Piano Quintet</td>\n",
       "      <td>European Archive</td>\n",
       "      <td>http://tirolmusic.blogspot.com/</td>\n",
       "      <td>OP114</td>\n",
       "      <td>447</td>\n",
       "    </tr>\n",
       "    <tr>\n",
       "      <th>1</th>\n",
       "      <td>1728</td>\n",
       "      <td>Schubert</td>\n",
       "      <td>Piano Quintet in A major</td>\n",
       "      <td>3. Scherzo: Presto</td>\n",
       "      <td>Piano Quintet</td>\n",
       "      <td>European Archive</td>\n",
       "      <td>http://tirolmusic.blogspot.com/</td>\n",
       "      <td>OP114</td>\n",
       "      <td>251</td>\n",
       "    </tr>\n",
       "    <tr>\n",
       "      <th>2</th>\n",
       "      <td>1729</td>\n",
       "      <td>Schubert</td>\n",
       "      <td>Piano Quintet in A major</td>\n",
       "      <td>4. Andantino - Allegretto</td>\n",
       "      <td>Piano Quintet</td>\n",
       "      <td>European Archive</td>\n",
       "      <td>http://tirolmusic.blogspot.com/</td>\n",
       "      <td>OP114</td>\n",
       "      <td>444</td>\n",
       "    </tr>\n",
       "    <tr>\n",
       "      <th>3</th>\n",
       "      <td>1730</td>\n",
       "      <td>Schubert</td>\n",
       "      <td>Piano Quintet in A major</td>\n",
       "      <td>5. Allegro giusto</td>\n",
       "      <td>Piano Quintet</td>\n",
       "      <td>European Archive</td>\n",
       "      <td>http://tirolmusic.blogspot.com/</td>\n",
       "      <td>OP114</td>\n",
       "      <td>368</td>\n",
       "    </tr>\n",
       "    <tr>\n",
       "      <th>4</th>\n",
       "      <td>1733</td>\n",
       "      <td>Schubert</td>\n",
       "      <td>Piano Sonata in A major</td>\n",
       "      <td>2. Andantino</td>\n",
       "      <td>Solo Piano</td>\n",
       "      <td>Museopen</td>\n",
       "      <td>Segundo G. Yogore</td>\n",
       "      <td>D959</td>\n",
       "      <td>546</td>\n",
       "    </tr>\n",
       "  </tbody>\n",
       "</table>\n",
       "</div>"
      ],
      "text/plain": [
       "     id  composer               composition                   movement  \\\n",
       "0  1727  Schubert  Piano Quintet in A major                 2. Andante   \n",
       "1  1728  Schubert  Piano Quintet in A major         3. Scherzo: Presto   \n",
       "2  1729  Schubert  Piano Quintet in A major  4. Andantino - Allegretto   \n",
       "3  1730  Schubert  Piano Quintet in A major          5. Allegro giusto   \n",
       "4  1733  Schubert   Piano Sonata in A major               2. Andantino   \n",
       "\n",
       "        ensemble            source                      transcriber  \\\n",
       "0  Piano Quintet  European Archive  http://tirolmusic.blogspot.com/   \n",
       "1  Piano Quintet  European Archive  http://tirolmusic.blogspot.com/   \n",
       "2  Piano Quintet  European Archive  http://tirolmusic.blogspot.com/   \n",
       "3  Piano Quintet  European Archive  http://tirolmusic.blogspot.com/   \n",
       "4     Solo Piano          Museopen                Segundo G. Yogore   \n",
       "\n",
       "  catalog_name  seconds  \n",
       "0        OP114      447  \n",
       "1        OP114      251  \n",
       "2        OP114      444  \n",
       "3        OP114      368  \n",
       "4         D959      546  "
      ]
     },
     "execution_count": 3,
     "metadata": {},
     "output_type": "execute_result"
    }
   ],
   "source": [
    "metadata.head()"
   ]
  },
  {
   "cell_type": "code",
   "execution_count": 5,
   "metadata": {},
   "outputs": [
    {
     "data": {
      "text/plain": [
       "['Schubert', 'Bach', 'Beethoven']"
      ]
     },
     "execution_count": 5,
     "metadata": {},
     "output_type": "execute_result"
    }
   ],
   "source": [
    "# Construct a dictionary id --> composer, which will be used later to set the labels for all sound snippets\n",
    "composers = pd.Series(metadata.composer.values,index=metadata.id).to_dict()\n",
    "examples = [1755, 2211, 2368]\n",
    "[composers.get(example) for example in examples]"
   ]
  },
  {
   "cell_type": "code",
   "execution_count": 4,
   "metadata": {},
   "outputs": [],
   "source": [
    "# Creating dataset\n",
    "# First we define a function to load the audio snippets and to create the labels\n",
    "def load_audio(path, downsampling_rate, duration_sec, composers):\n",
    "        '''Requires the soundfile package, imported as sf '''\n",
    "        files = os.listdir(path)\n",
    "        message = \"Processing {0} audio files...\".format(len(files))\n",
    "        print(message)\n",
    "        message = \"Downsampling dataset to {0}% (equivalent to {1} audio files).\".format(downsampling_rate*100, int(downsampling_rate * len(files)) )\n",
    "        print(message)\n",
    "        \n",
    "        ds = np.random.choice(files, int(len(files) * downsampling_rate), replace=False)\n",
    "        \n",
    "        # Initialise empty arrays\n",
    "        data = np.zeros((len(ds), 1, 88200))\n",
    "        labels = np.zeros(len(ds), dtype = \"<U10\")\n",
    "        \n",
    "        with progressbar.ProgressBar(max_value=len(ds)) as bar:\n",
    "            \n",
    "            for i, file in enumerate(ds):\n",
    "                # load and process file, then add to array\n",
    "                audio_clip, sr = sf.read(path + file)\n",
    "                audio_clip = audio_clip[:int(sr*duration_sec)]\n",
    "                audio_clip = audio_clip[np.newaxis, :]\n",
    "                data[i, :audio_clip.shape[0],:audio_clip.shape[1]] = audio_clip\n",
    "                audio_clip = None\n",
    "            \n",
    "                # look up label and add to array\n",
    "                file_id = file.split(\"-\")[0]\n",
    "                label = composers[int(file_id)]\n",
    "                labels[i] = label \n",
    "                label = None\n",
    "                bar.update(i)\n",
    "            \n",
    "        return labels, data\n",
    "        "
   ]
  },
  {
   "cell_type": "code",
   "execution_count": 7,
   "metadata": {},
   "outputs": [
    {
     "name": "stderr",
     "output_type": "stream",
     "text": [
      "  0% (215 of 61596) |                    | Elapsed Time: 0:00:00 ETA:   0:00:28"
     ]
    },
    {
     "name": "stdout",
     "output_type": "stream",
     "text": [
      "Processing 61596 audio files...\n",
      "Downsampling dataset to 100% (equivalent to 61596 audio files).\n"
     ]
    },
    {
     "name": "stderr",
     "output_type": "stream",
     "text": [
      "100% (61596 of 61596) |##################| Elapsed Time: 0:02:23 Time:  0:02:23\n"
     ]
    }
   ],
   "source": [
    "# These sections can be skipped as there's no need to re-create these variables:\n",
    "# they can be loaded from disk.\n",
    "#\n",
    "# Load audio files, process them and create dataset and labels\n",
    "labels, data = load_audio(\"/data/music/musicnet/data_chunks/\", 1, 2, composers)"
   ]
  },
  {
   "cell_type": "code",
   "execution_count": 8,
   "metadata": {},
   "outputs": [
    {
     "data": {
      "text/plain": [
       "(61596, 10)"
      ]
     },
     "execution_count": 8,
     "metadata": {},
     "output_type": "execute_result"
    }
   ],
   "source": [
    "# Turn labels to categorical (one-hot encoding)\n",
    "labels_pd = pd.DataFrame(labels)\n",
    "onehot = pd.get_dummies(labels_pd)\n",
    "targets = onehot.as_matrix()\n",
    "targets.shape"
   ]
  },
  {
   "cell_type": "code",
   "execution_count": 10,
   "metadata": {},
   "outputs": [],
   "source": [
    "# Store datasets as hdf5 files\n",
    "all_data = h5py.File('/data/music/musicnet/hdf5/data.hdf5', 'w')\n",
    "all_data.create_dataset('data', data=data)\n",
    "all_data.create_dataset('targets', data=targets)\n",
    "all_data.close()"
   ]
  },
  {
   "cell_type": "code",
   "execution_count": 11,
   "metadata": {},
   "outputs": [
    {
     "data": {
      "text/plain": [
       "129"
      ]
     },
     "execution_count": 11,
     "metadata": {},
     "output_type": "execute_result"
    }
   ],
   "source": [
    "# Remove variables and release all memory\n",
    "data = None\n",
    "targets = None\n",
    "gc.collect()"
   ]
  },
  {
   "cell_type": "code",
   "execution_count": 12,
   "metadata": {},
   "outputs": [],
   "source": [
    "# Create training, validation and test datasets\n",
    "all_data = h5py.File('/data/music/musicnet/hdf5/data.hdf5', 'r')\n",
    "list(all_data.keys())\n",
    "data = all_data['data']\n",
    "targets = all_data['targets']"
   ]
  },
  {
   "cell_type": "code",
   "execution_count": 13,
   "metadata": {},
   "outputs": [],
   "source": [
    "# Get indices for random sampling of datasets\n",
    "indices = np.random.permutation(data.shape[0])\n",
    "training_test_split = 0.8\n",
    "size_training_bf_validation = int(len(indices) * training_test_split)\n",
    "training_validation_split = 0.8\n",
    "size_training = int(size_training_bf_validation * training_validation_split)\n",
    "size_validation = size_training_bf_validation - size_training\n",
    "size_test = len(indices) - size_training - size_validation\n",
    "\n",
    "training_idx = indices[:size_training]\n",
    "validation_idx = indices[size_training:(size_training+size_validation)]\n",
    "test_idx = indices[(size_training+size_validation):(size_training+size_validation+size_test)]"
   ]
  },
  {
   "cell_type": "code",
   "execution_count": 14,
   "metadata": {},
   "outputs": [],
   "source": [
    "# Generate each dataset, save as hdf5 and release memory"
   ]
  },
  {
   "cell_type": "code",
   "execution_count": 15,
   "metadata": {},
   "outputs": [],
   "source": [
    "# Training\n",
    "training_data = data[np.sort(training_idx),:]\n",
    "training_targets = targets[np.sort(training_idx),:]"
   ]
  },
  {
   "cell_type": "code",
   "execution_count": 16,
   "metadata": {},
   "outputs": [],
   "source": [
    "training = h5py.File('/data/music/musicnet/hdf5/training.hdf5', 'w')\n",
    "training.create_dataset('data', data=training_data)\n",
    "training.create_dataset('targets', data=training_targets)\n",
    "training.close()"
   ]
  },
  {
   "cell_type": "code",
   "execution_count": 17,
   "metadata": {},
   "outputs": [
    {
     "data": {
      "text/plain": [
       "0"
      ]
     },
     "execution_count": 17,
     "metadata": {},
     "output_type": "execute_result"
    }
   ],
   "source": [
    "training_data = None\n",
    "training_targets = None\n",
    "gc.collect()"
   ]
  },
  {
   "cell_type": "code",
   "execution_count": 18,
   "metadata": {},
   "outputs": [],
   "source": [
    "# Validatation\n",
    "validation_data = data[np.sort(validation_idx),:]\n",
    "validation_targets = targets[np.sort(validation_idx),:]"
   ]
  },
  {
   "cell_type": "code",
   "execution_count": 19,
   "metadata": {},
   "outputs": [],
   "source": [
    "validation = h5py.File('/data/music/musicnet/hdf5/validation.hdf5', 'w')\n",
    "validation.create_dataset('data', data=validation_data)\n",
    "validation.create_dataset('targets', data=validation_targets)\n",
    "validation.close()"
   ]
  },
  {
   "cell_type": "code",
   "execution_count": 20,
   "metadata": {},
   "outputs": [
    {
     "data": {
      "text/plain": [
       "0"
      ]
     },
     "execution_count": 20,
     "metadata": {},
     "output_type": "execute_result"
    }
   ],
   "source": [
    "validation_data = None\n",
    "validation_targets = None\n",
    "gc.collect()"
   ]
  },
  {
   "cell_type": "code",
   "execution_count": 21,
   "metadata": {},
   "outputs": [],
   "source": [
    "# Test\n",
    "test_data = data[np.sort(test_idx),:]\n",
    "test_targets = targets[np.sort(test_idx),:]"
   ]
  },
  {
   "cell_type": "code",
   "execution_count": 22,
   "metadata": {},
   "outputs": [],
   "source": [
    "test = h5py.File('/data/music/musicnet/hdf5/test.hdf5', 'w')\n",
    "test.create_dataset('data', data=test_data)\n",
    "test.create_dataset('targets', data=test_targets)\n",
    "test.close()"
   ]
  },
  {
   "cell_type": "code",
   "execution_count": 23,
   "metadata": {},
   "outputs": [
    {
     "data": {
      "text/plain": [
       "0"
      ]
     },
     "execution_count": 23,
     "metadata": {},
     "output_type": "execute_result"
    }
   ],
   "source": [
    "test_data = None\n",
    "test_targets = None\n",
    "data = None\n",
    "targets = None\n",
    "training = None\n",
    "validation = None\n",
    "test = None\n",
    "gc.collect()"
   ]
  },
  {
   "cell_type": "code",
   "execution_count": null,
   "metadata": {},
   "outputs": [],
   "source": [
    "# CONVOLUTIONAL NETWORK"
   ]
  },
  {
   "cell_type": "code",
   "execution_count": 5,
   "metadata": {},
   "outputs": [],
   "source": [
    "# Define a model whose first layer is a mel-spectrogram (from Kapre)\n",
    "from keras.models import Sequential\n",
    "from keras import layers\n",
    "from kapre.time_frequency import Melspectrogram\n",
    "from kapre.utils import Normalization2D\n",
    "from kapre.augmentation import AdditiveNoise"
   ]
  },
  {
   "cell_type": "code",
   "execution_count": 6,
   "metadata": {},
   "outputs": [],
   "source": [
    "# Code inspired by https://github.com/keunwoochoi/kapre\n",
    "input_shape = (1, 88200)\n",
    "sr = 44100\n",
    "\n",
    "model = Sequential()\n",
    "# A mel-spectrogram layer\n",
    "model.add(Melspectrogram(n_dft=512, n_hop=256, input_shape=input_shape,\n",
    "                         padding='same', sr=sr, n_mels=64,\n",
    "                         fmin=0.0, fmax=sr/2, power_melgram=1.0,\n",
    "                         return_decibel_melgram=False, trainable_fb=False,\n",
    "                         trainable_kernel=False,\n",
    "                         name='trainable_stft'))\n",
    "# Add some white noise\n",
    "model.add(AdditiveNoise(power=0.2))\n",
    "# Normalise it per-frequency\n",
    "model.add(Normalization2D(str_axis='batch')) # or 'channel', 'time', 'batch', 'data_sample'\n",
    "# Add convolution layers\n",
    "model.add(layers.Conv2D(16, (3, 3), activation = 'relu'))\n",
    "model.add(layers.Conv2D(16, (3, 3), activation = 'relu'))\n",
    "model.add(layers.MaxPooling2D((3,3)))\n",
    "model.add(layers.Dropout(rate=0.1))\n",
    "\n",
    "model.add(layers.Conv2D(32, (3, 3), activation = 'relu'))\n",
    "model.add(layers.Conv2D(32, (3, 3), activation = 'relu'))\n",
    "model.add(layers.MaxPooling2D((3,3)))\n",
    "model.add(layers.Dropout(rate=0.1))\n",
    "\n",
    "model.add(layers.Conv2D(64, (3, 3), activation = 'relu'))\n",
    "model.add(layers.MaxPooling2D((3,3)))\n",
    "model.add(layers.Dropout(rate=0.1))\n",
    "\n",
    "model.add(layers.Flatten())\n",
    "model.add(layers.Dense(10, activation='softmax'))"
   ]
  },
  {
   "cell_type": "code",
   "execution_count": 7,
   "metadata": {},
   "outputs": [],
   "source": [
    "# Load the training and validation data from hdf5\n",
    "training = h5py.File('/data/music/musicnet/hdf5/training.hdf5', 'r')\n",
    "validation = h5py.File('/data/music/musicnet/hdf5/validation.hdf5', 'r')\n",
    "\n",
    "list(training.keys())\n",
    "training_data = training['data']\n",
    "training_targets = training['targets']\n",
    "\n",
    "list(validation.keys())\n",
    "validation_data = validation['data']\n",
    "validation_targets = validation['targets']"
   ]
  },
  {
   "cell_type": "code",
   "execution_count": 8,
   "metadata": {},
   "outputs": [],
   "source": [
    "# Compile model\n",
    "from keras import optimizers\n",
    "model.compile(optimizer = 'adam',\n",
    "              loss = 'categorical_crossentropy',\n",
    "              metrics=['accuracy'])"
   ]
  },
  {
   "cell_type": "code",
   "execution_count": 9,
   "metadata": {},
   "outputs": [
    {
     "name": "stdout",
     "output_type": "stream",
     "text": [
      "Train on 39420 samples, validate on 9856 samples\n",
      "Epoch 1/30\n",
      "39420/39420 [==============================] - 374s 9ms/step - loss: 1.5418 - acc: 0.5311 - val_loss: 1.6278 - val_acc: 0.5278\n",
      "Epoch 2/30\n",
      "39420/39420 [==============================] - 87s 2ms/step - loss: 1.4348 - acc: 0.5416 - val_loss: 1.4907 - val_acc: 0.5209\n",
      "Epoch 3/30\n",
      "39420/39420 [==============================] - 86s 2ms/step - loss: 1.3259 - acc: 0.5595 - val_loss: 1.4300 - val_acc: 0.5270\n",
      "Epoch 4/30\n",
      "39420/39420 [==============================] - 86s 2ms/step - loss: 1.2672 - acc: 0.5693 - val_loss: 1.4045 - val_acc: 0.5323\n",
      "Epoch 5/30\n",
      "39420/39420 [==============================] - 86s 2ms/step - loss: 1.2267 - acc: 0.5777 - val_loss: 1.3592 - val_acc: 0.5400\n",
      "Epoch 6/30\n",
      "39420/39420 [==============================] - 86s 2ms/step - loss: 1.1909 - acc: 0.5877 - val_loss: 1.3389 - val_acc: 0.5491\n",
      "Epoch 7/30\n",
      "39420/39420 [==============================] - 86s 2ms/step - loss: 1.1669 - acc: 0.5939 - val_loss: 1.3142 - val_acc: 0.5477\n",
      "Epoch 8/30\n",
      "39420/39420 [==============================] - 86s 2ms/step - loss: 1.1414 - acc: 0.6006 - val_loss: 1.2806 - val_acc: 0.5620\n",
      "Epoch 9/30\n",
      "39420/39420 [==============================] - 86s 2ms/step - loss: 1.1264 - acc: 0.6061 - val_loss: 1.2623 - val_acc: 0.5751\n",
      "Epoch 10/30\n",
      "39420/39420 [==============================] - 86s 2ms/step - loss: 1.1121 - acc: 0.6110 - val_loss: 1.2652 - val_acc: 0.5701\n",
      "Epoch 11/30\n",
      "39420/39420 [==============================] - 86s 2ms/step - loss: 1.0922 - acc: 0.6154 - val_loss: 1.2235 - val_acc: 0.5853\n",
      "Epoch 12/30\n",
      "39420/39420 [==============================] - 86s 2ms/step - loss: 1.0767 - acc: 0.6218 - val_loss: 1.2235 - val_acc: 0.5878\n",
      "Epoch 13/30\n",
      "39420/39420 [==============================] - 86s 2ms/step - loss: 1.0645 - acc: 0.6240 - val_loss: 1.2189 - val_acc: 0.5931\n",
      "Epoch 14/30\n",
      "39420/39420 [==============================] - 86s 2ms/step - loss: 1.0548 - acc: 0.6275 - val_loss: 1.2348 - val_acc: 0.5875\n",
      "Epoch 15/30\n",
      "39420/39420 [==============================] - 86s 2ms/step - loss: 1.0452 - acc: 0.6301 - val_loss: 1.2233 - val_acc: 0.5924\n",
      "Epoch 16/30\n",
      "39420/39420 [==============================] - 86s 2ms/step - loss: 1.0385 - acc: 0.6315 - val_loss: 1.1964 - val_acc: 0.5959\n",
      "Epoch 17/30\n",
      "39420/39420 [==============================] - 86s 2ms/step - loss: 1.0260 - acc: 0.6352 - val_loss: 1.2303 - val_acc: 0.5958\n",
      "Epoch 18/30\n",
      "39420/39420 [==============================] - 86s 2ms/step - loss: 1.0164 - acc: 0.6384 - val_loss: 1.2122 - val_acc: 0.5935\n",
      "Epoch 19/30\n",
      "39420/39420 [==============================] - 86s 2ms/step - loss: 1.0103 - acc: 0.6404 - val_loss: 1.2085 - val_acc: 0.5981\n",
      "Epoch 20/30\n",
      "39420/39420 [==============================] - 86s 2ms/step - loss: 1.0020 - acc: 0.6420 - val_loss: 1.2138 - val_acc: 0.5905\n",
      "Epoch 21/30\n",
      "39420/39420 [==============================] - 86s 2ms/step - loss: 0.9998 - acc: 0.6402 - val_loss: 1.1896 - val_acc: 0.6022\n",
      "Epoch 22/30\n",
      "39420/39420 [==============================] - 86s 2ms/step - loss: 0.9884 - acc: 0.6477 - val_loss: 1.1755 - val_acc: 0.6091\n",
      "Epoch 23/30\n",
      "39420/39420 [==============================] - 86s 2ms/step - loss: 0.9880 - acc: 0.6469 - val_loss: 1.1694 - val_acc: 0.6056\n",
      "Epoch 24/30\n",
      "39420/39420 [==============================] - 86s 2ms/step - loss: 0.9797 - acc: 0.6493 - val_loss: 1.1364 - val_acc: 0.6153\n",
      "Epoch 25/30\n",
      "39420/39420 [==============================] - 86s 2ms/step - loss: 0.9758 - acc: 0.6503 - val_loss: 1.1575 - val_acc: 0.6123\n",
      "Epoch 26/30\n",
      "39420/39420 [==============================] - 86s 2ms/step - loss: 0.9684 - acc: 0.6546 - val_loss: 1.1445 - val_acc: 0.6204\n",
      "Epoch 27/30\n",
      "39420/39420 [==============================] - 86s 2ms/step - loss: 0.9671 - acc: 0.6534 - val_loss: 1.1666 - val_acc: 0.6140\n",
      "Epoch 28/30\n",
      "39420/39420 [==============================] - 86s 2ms/step - loss: 0.9610 - acc: 0.6551 - val_loss: 1.1404 - val_acc: 0.6240\n",
      "Epoch 29/30\n",
      "39420/39420 [==============================] - 86s 2ms/step - loss: 0.9581 - acc: 0.6573 - val_loss: 1.1202 - val_acc: 0.6271\n",
      "Epoch 30/30\n",
      "39420/39420 [==============================] - 86s 2ms/step - loss: 0.9505 - acc: 0.6593 - val_loss: 1.1686 - val_acc: 0.6182\n"
     ]
    }
   ],
   "source": [
    "file_path=\"/home/ubuntu/code/trained_model/music/music-weights-improvement-{epoch:02d}-{val_loss:.4f}-{val_acc:.2f}.hdf5\"\n",
    "tensorboard_path = \"/home/ubuntu/code/tensorboard/\"\n",
    "\n",
    "callbacks_list = [\n",
    "        #keras.callbacks.EarlyStopping(monitor='acc', patience=2,),\n",
    "        keras.callbacks.ModelCheckpoint(filepath=file_path, monitor='val_loss', save_best_only=True,),\n",
    "        keras.callbacks.ReduceLROnPlateau(monitor='val_loss', factor=0.1, patience=8,),\n",
    "        keras.callbacks.TensorBoard(log_dir=tensorboard_path, batch_size=32,)]\n",
    "\n",
    "history = model.fit(training_data, \n",
    "                    training_targets,\n",
    "                    epochs = 100,\n",
    "                    batch_size = 150,\n",
    "                    callbacks=callbacks_list,\n",
    "                    validation_data=(validation_data, validation_targets),\n",
    "                    shuffle=False)"
   ]
  },
  {
   "cell_type": "code",
   "execution_count": 10,
   "metadata": {},
   "outputs": [
    {
     "data": {
      "image/png": "[encoded data removed]",
      "text/plain": [
       "<Figure size 432x288 with 1 Axes>"
      ]
     },
     "metadata": {},
     "output_type": "display_data"
    }
   ],
   "source": [
    "import matplotlib.pyplot as plt\n",
    "import matplotlib.gridspec as gridspec\n",
    "\n",
    "# Total Loss\n",
    "loss = history.history['loss']\n",
    "val_loss = history.history['val_loss']\n",
    "epochs = range(1, len(loss) + 1)\n",
    "plt.plot(epochs, loss, 'bo', label='Training loss')\n",
    "plt.plot(epochs, val_loss, 'b', label='Validation loss')\n",
    "plt.title('Joint - Training and validation loss')\n",
    "plt.xlabel('Epochs')\n",
    "plt.ylabel('Loss')\n",
    "plt.legend()\n",
    "plt.show()"
   ]
  },
  {
   "cell_type": "code",
   "execution_count": 11,
   "metadata": {},
   "outputs": [
    {
     "data": {
      "image/png": "[encoded data removed]",
      "text/plain": [
       "<Figure size 432x288 with 1 Axes>"
      ]
     },
     "metadata": {},
     "output_type": "display_data"
    }
   ],
   "source": [
    "acc = history.history['acc']\n",
    "val_acc = history.history['val_acc']\n",
    "epochs = range(1, len(loss) + 1)\n",
    "plt.subplots(1)\n",
    "plt.plot(epochs, acc, 'bo', label='Training accuracy')\n",
    "plt.plot(epochs, val_acc, 'b', label='Validation accuracy')\n",
    "plt.title('Gender - Training and validation accuracy')\n",
    "plt.xlabel('Epochs')\n",
    "plt.ylabel('Loss')\n",
    "plt.legend()\n",
    "plt.show()"
   ]
  },
  {
   "cell_type": "code",
   "execution_count": 12,
   "metadata": {},
   "outputs": [],
   "source": [
    "# Do test predictions and compare performance with baseline\n",
    "test = h5py.File('/data/music/musicnet/hdf5/test.hdf5', 'r')\n",
    "\n",
    "list(test.keys())\n",
    "test_data = test['data']\n",
    "test_targets = test['targets']"
   ]
  },
  {
   "cell_type": "code",
   "execution_count": 13,
   "metadata": {},
   "outputs": [],
   "source": [
    "test_predictions = model.predict(test_data)"
   ]
  },
  {
   "cell_type": "code",
   "execution_count": 14,
   "metadata": {},
   "outputs": [],
   "source": [
    "test_predicted_labels = np.argmax(test_predictions, axis=1)\n",
    "test_target_labels = np.argmax(test_targets, axis=1)"
   ]
  },
  {
   "cell_type": "code",
   "execution_count": 15,
   "metadata": {
    "scrolled": true
   },
   "outputs": [
    {
     "name": "stdout",
     "output_type": "stream",
     "text": [
      "Accuracy  0.610551948051948\n",
      "             precision    recall  f1-score   support\n",
      "\n",
      "          0       0.59      0.76      0.67      1144\n",
      "          1       0.65      0.85      0.73      6404\n",
      "          2       0.53      0.27      0.36      1169\n",
      "          3       0.43      0.77      0.56       274\n",
      "          4       0.57      0.13      0.21       334\n",
      "          5       0.64      0.45      0.52       211\n",
      "          6       0.40      0.02      0.04       100\n",
      "          7       0.46      0.25      0.33       961\n",
      "          8       1.00      0.01      0.01       174\n",
      "          9       0.51      0.19      0.28      1549\n",
      "\n",
      "avg / total       0.59      0.61      0.57     12320\n",
      "\n"
     ]
    }
   ],
   "source": [
    "from sklearn.metrics import accuracy_score, roc_auc_score, classification_report\n",
    "print('Accuracy ', accuracy_score(test_target_labels, test_predicted_labels))\n",
    "print(classification_report(test_target_labels, test_predicted_labels))"
   ]
  },
  {
   "cell_type": "code",
   "execution_count": 16,
   "metadata": {},
   "outputs": [],
   "source": [
    "# Compare with baseline classifier (in this case we pick the most popular class)\n",
    "most_popular = np.argmax(np.bincount(test_target_labels))"
   ]
  },
  {
   "cell_type": "code",
   "execution_count": 17,
   "metadata": {},
   "outputs": [],
   "source": [
    "baseline_prediction = np.repeat(most_popular, test_target_labels.shape[0])"
   ]
  },
  {
   "cell_type": "code",
   "execution_count": 18,
   "metadata": {},
   "outputs": [
    {
     "name": "stdout",
     "output_type": "stream",
     "text": [
      "Accuracy  0.5198051948051948\n",
      "             precision    recall  f1-score   support\n",
      "\n",
      "          0       0.00      0.00      0.00      1144\n",
      "          1       0.52      1.00      0.68      6404\n",
      "          2       0.00      0.00      0.00      1169\n",
      "          3       0.00      0.00      0.00       274\n",
      "          4       0.00      0.00      0.00       334\n",
      "          5       0.00      0.00      0.00       211\n",
      "          6       0.00      0.00      0.00       100\n",
      "          7       0.00      0.00      0.00       961\n",
      "          8       0.00      0.00      0.00       174\n",
      "          9       0.00      0.00      0.00      1549\n",
      "\n",
      "avg / total       0.27      0.52      0.36     12320\n",
      "\n"
     ]
    },
    {
     "name": "stderr",
     "output_type": "stream",
     "text": [
      "/home/ubuntu/anaconda3/envs/tensorflow_p36/lib/python3.6/site-packages/sklearn/metrics/classification.py:1135: UndefinedMetricWarning: Precision and F-score are ill-defined and being set to 0.0 in labels with no predicted samples.\n",
      "  'precision', 'predicted', average, warn_for)\n"
     ]
    }
   ],
   "source": [
    "print('Accuracy ', accuracy_score(test_target_labels, baseline_prediction))\n",
    "print(classification_report(test_target_labels, baseline_prediction))"
   ]
  },
  {
   "cell_type": "code",
   "execution_count": 23,
   "metadata": {},
   "outputs": [],
   "source": [
    "# Compare with baseline classifier (predicting randomly based on popularity of each class)\n",
    "unique, counts = np.unique(test_target_labels, return_counts=True)\n",
    "props = counts / sum(counts)\n",
    "random_predictions = np.random.choice(10, test_target_labels.shape[0], props.any())"
   ]
  },
  {
   "cell_type": "code",
   "execution_count": 24,
   "metadata": {},
   "outputs": [
    {
     "name": "stdout",
     "output_type": "stream",
     "text": [
      "Accuracy  0.10576298701298702\n",
      "             precision    recall  f1-score   support\n",
      "\n",
      "          0       0.12      0.12      0.12      1144\n",
      "          1       0.52      0.10      0.17      6404\n",
      "          2       0.10      0.11      0.11      1169\n",
      "          3       0.03      0.16      0.06       274\n",
      "          4       0.02      0.09      0.04       334\n",
      "          5       0.01      0.05      0.02       211\n",
      "          6       0.01      0.08      0.01       100\n",
      "          7       0.08      0.10      0.09       961\n",
      "          8       0.02      0.12      0.03       174\n",
      "          9       0.13      0.10      0.12      1549\n",
      "\n",
      "avg / total       0.31      0.11      0.14     12320\n",
      "\n"
     ]
    }
   ],
   "source": [
    "print('Accuracy ', accuracy_score(test_target_labels, random_predictions))\n",
    "print(classification_report(test_target_labels, random_predictions))"
   ]
  },
  {
   "cell_type": "code",
   "execution_count": null,
   "metadata": {},
   "outputs": [],
   "source": []
  }
 ],
 "metadata": {
  "kernelspec": {
   "display_name": "Python [conda env:tensorflow_p36]",
   "language": "python",
   "name": "conda-env-tensorflow_p36-py"
  },
  "language_info": {
   "codemirror_mode": {
    "name": "ipython",
    "version": 3
   },
   "file_extension": ".py",
   "mimetype": "text/x-python",
   "name": "python",
   "nbconvert_exporter": "python",
   "pygments_lexer": "ipython3",
   "version": "3.6.5"
  }
 },
 "nbformat": 4,
 "nbformat_minor": 2
}
