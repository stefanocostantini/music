{
 "cells": [
  {
   "cell_type": "code",
   "execution_count": 1,
   "metadata": {},
   "outputs": [
    {
     "name": "stderr",
     "output_type": "stream",
     "text": [
      "Using TensorFlow backend.\n"
     ]
    }
   ],
   "source": [
    "%matplotlib inline\n",
    "import numpy as np\n",
    "import pandas as pd\n",
    "import kapre\n",
    "import keras\n",
    "import os\n",
    "import soundfile as sf\n",
    "import time\n",
    "import progressbar\n",
    "import gc\n",
    "import h5py"
   ]
  },
  {
   "cell_type": "code",
   "execution_count": 2,
   "metadata": {},
   "outputs": [],
   "source": [
    "# Load metadata to extract labels\n",
    "metadata = pd.read_csv('/data/music/musicnet/metadata.csv')"
   ]
  },
  {
   "cell_type": "code",
   "execution_count": 3,
   "metadata": {},
   "outputs": [
    {
     "data": {
      "text/html": [
       "<div>\n",
       "<style scoped>\n",
       "    .dataframe tbody tr th:only-of-type {\n",
       "        vertical-align: middle;\n",
       "    }\n",
       "\n",
       "    .dataframe tbody tr th {\n",
       "        vertical-align: top;\n",
       "    }\n",
       "\n",
       "    .dataframe thead th {\n",
       "        text-align: right;\n",
       "    }\n",
       "</style>\n",
       "<table border=\"1\" class=\"dataframe\">\n",
       "  <thead>\n",
       "    <tr style=\"text-align: right;\">\n",
       "      <th></th>\n",
       "      <th>id</th>\n",
       "      <th>composer</th>\n",
       "      <th>composition</th>\n",
       "      <th>movement</th>\n",
       "      <th>ensemble</th>\n",
       "      <th>source</th>\n",
       "      <th>transcriber</th>\n",
       "      <th>catalog_name</th>\n",
       "      <th>seconds</th>\n",
       "    </tr>\n",
       "  </thead>\n",
       "  <tbody>\n",
       "    <tr>\n",
       "      <th>0</th>\n",
       "      <td>1727</td>\n",
       "      <td>Schubert</td>\n",
       "      <td>Piano Quintet in A major</td>\n",
       "      <td>2. Andante</td>\n",
       "      <td>Piano Quintet</td>\n",
       "      <td>European Archive</td>\n",
       "      <td>http://tirolmusic.blogspot.com/</td>\n",
       "      <td>OP114</td>\n",
       "      <td>447</td>\n",
       "    </tr>\n",
       "    <tr>\n",
       "      <th>1</th>\n",
       "      <td>1728</td>\n",
       "      <td>Schubert</td>\n",
       "      <td>Piano Quintet in A major</td>\n",
       "      <td>3. Scherzo: Presto</td>\n",
       "      <td>Piano Quintet</td>\n",
       "      <td>European Archive</td>\n",
       "      <td>http://tirolmusic.blogspot.com/</td>\n",
       "      <td>OP114</td>\n",
       "      <td>251</td>\n",
       "    </tr>\n",
       "    <tr>\n",
       "      <th>2</th>\n",
       "      <td>1729</td>\n",
       "      <td>Schubert</td>\n",
       "      <td>Piano Quintet in A major</td>\n",
       "      <td>4. Andantino - Allegretto</td>\n",
       "      <td>Piano Quintet</td>\n",
       "      <td>European Archive</td>\n",
       "      <td>http://tirolmusic.blogspot.com/</td>\n",
       "      <td>OP114</td>\n",
       "      <td>444</td>\n",
       "    </tr>\n",
       "    <tr>\n",
       "      <th>3</th>\n",
       "      <td>1730</td>\n",
       "      <td>Schubert</td>\n",
       "      <td>Piano Quintet in A major</td>\n",
       "      <td>5. Allegro giusto</td>\n",
       "      <td>Piano Quintet</td>\n",
       "      <td>European Archive</td>\n",
       "      <td>http://tirolmusic.blogspot.com/</td>\n",
       "      <td>OP114</td>\n",
       "      <td>368</td>\n",
       "    </tr>\n",
       "    <tr>\n",
       "      <th>4</th>\n",
       "      <td>1733</td>\n",
       "      <td>Schubert</td>\n",
       "      <td>Piano Sonata in A major</td>\n",
       "      <td>2. Andantino</td>\n",
       "      <td>Solo Piano</td>\n",
       "      <td>Museopen</td>\n",
       "      <td>Segundo G. Yogore</td>\n",
       "      <td>D959</td>\n",
       "      <td>546</td>\n",
       "    </tr>\n",
       "  </tbody>\n",
       "</table>\n",
       "</div>"
      ],
      "text/plain": [
       "     id  composer               composition                   movement  \\\n",
       "0  1727  Schubert  Piano Quintet in A major                 2. Andante   \n",
       "1  1728  Schubert  Piano Quintet in A major         3. Scherzo: Presto   \n",
       "2  1729  Schubert  Piano Quintet in A major  4. Andantino - Allegretto   \n",
       "3  1730  Schubert  Piano Quintet in A major          5. Allegro giusto   \n",
       "4  1733  Schubert   Piano Sonata in A major               2. Andantino   \n",
       "\n",
       "        ensemble            source                      transcriber  \\\n",
       "0  Piano Quintet  European Archive  http://tirolmusic.blogspot.com/   \n",
       "1  Piano Quintet  European Archive  http://tirolmusic.blogspot.com/   \n",
       "2  Piano Quintet  European Archive  http://tirolmusic.blogspot.com/   \n",
       "3  Piano Quintet  European Archive  http://tirolmusic.blogspot.com/   \n",
       "4     Solo Piano          Museopen                Segundo G. Yogore   \n",
       "\n",
       "  catalog_name  seconds  \n",
       "0        OP114      447  \n",
       "1        OP114      251  \n",
       "2        OP114      444  \n",
       "3        OP114      368  \n",
       "4         D959      546  "
      ]
     },
     "execution_count": 3,
     "metadata": {},
     "output_type": "execute_result"
    }
   ],
   "source": [
    "metadata.head()"
   ]
  },
  {
   "cell_type": "code",
   "execution_count": 4,
   "metadata": {},
   "outputs": [
    {
     "data": {
      "text/plain": [
       "['Schubert', 'Bach', 'Beethoven']"
      ]
     },
     "execution_count": 4,
     "metadata": {},
     "output_type": "execute_result"
    }
   ],
   "source": [
    "# Construct a dictionary id --> composer, which will be used later to set the labels for all sound snippets\n",
    "composers = pd.Series(metadata.composer.values,index=metadata.id).to_dict()\n",
    "examples = [1755, 2211, 2368]\n",
    "[composers.get(example) for example in examples]"
   ]
  },
  {
   "cell_type": "code",
   "execution_count": 5,
   "metadata": {},
   "outputs": [],
   "source": [
    "# Creating dataset\n",
    "# First we define a function to load the audio snippets and to create the labels\n",
    "def load_audio(path, downsampling_rate, duration_sec, composers):\n",
    "        '''Requires the soundfile package, imported as sf '''\n",
    "        files = os.listdir(path)\n",
    "        message = \"Processing {0} audio files...\".format(len(files))\n",
    "        print(message)\n",
    "        message = \"Downsampling dataset to {0}% (equivalent to {1} audio files).\".format(downsampling_rate*100, int(downsampling_rate * len(files)) )\n",
    "        print(message)\n",
    "        \n",
    "        ds = np.random.choice(files, int(len(files) * downsampling_rate), replace=False)\n",
    "        \n",
    "        # Initialise empty arrays\n",
    "        data = np.zeros((len(ds), 1, 88200))\n",
    "        labels = np.zeros(len(ds), dtype = \"<U10\")\n",
    "        \n",
    "        with progressbar.ProgressBar(max_value=len(ds)) as bar:\n",
    "            \n",
    "            for i, file in enumerate(ds):\n",
    "                # load and process file, then add to array\n",
    "                audio_clip, sr = sf.read(path + file)\n",
    "                audio_clip = audio_clip[:int(sr*duration_sec)]\n",
    "                audio_clip = audio_clip[np.newaxis, :]\n",
    "                data[i, :audio_clip.shape[0],:audio_clip.shape[1]] = audio_clip\n",
    "                audio_clip = None\n",
    "            \n",
    "                # look up label and add to array\n",
    "                file_id = file.split(\"-\")[0]\n",
    "                label = composers[int(file_id)]\n",
    "                labels[i] = label \n",
    "                label = None\n",
    "                bar.update(i)\n",
    "            \n",
    "        return labels, data\n",
    "        "
   ]
  },
  {
   "cell_type": "code",
   "execution_count": null,
   "metadata": {},
   "outputs": [],
   "source": [
    "# These sections can be skipped as there's no need to re-create these variables:\n",
    "# they can be loaded from disk.\n",
    "#\n",
    "# Load audio files, process them and create dataset and labels\n",
    "labels, data = load_audio(\"/data/music/musicnet/data_chunks/\", 0.5, 2, composers)"
   ]
  },
  {
   "cell_type": "code",
   "execution_count": null,
   "metadata": {},
   "outputs": [],
   "source": [
    "# Turn labels to categorical (one-hot encoding)\n",
    "labels_pd = pd.DataFrame(labels)\n",
    "onehot = pd.get_dummies(labels_pd)\n",
    "targets = onehot.as_matrix()\n",
    "targets.shape"
   ]
  },
  {
   "cell_type": "code",
   "execution_count": null,
   "metadata": {},
   "outputs": [],
   "source": [
    "# Store datasets as hdf5 files\n",
    "all_data = h5py.File('/data/music/musicnet/hdf5/data.hdf5', 'w')\n",
    "all_data.create_dataset('data', data=data)\n",
    "all_data.create_dataset('targets', data=targets)\n",
    "all_data.close()"
   ]
  },
  {
   "cell_type": "code",
   "execution_count": null,
   "metadata": {},
   "outputs": [],
   "source": [
    "# Remove variables and release all memory\n",
    "data = None\n",
    "targets = None\n",
    "gc.collect()"
   ]
  },
  {
   "cell_type": "code",
   "execution_count": null,
   "metadata": {},
   "outputs": [],
   "source": [
    "# Create training, validation and test datasets\n",
    "all_data = h5py.File('/data/music/musicnet/hdf5/data.hdf5', 'r')\n",
    "list(all_data.keys())\n",
    "data = all_data['data']\n",
    "targets = all_data['targets']"
   ]
  },
  {
   "cell_type": "code",
   "execution_count": null,
   "metadata": {},
   "outputs": [],
   "source": [
    "# Get indices for random sampling of datasets\n",
    "indices = np.random.permutation(data.shape[0])\n",
    "training_test_split = 0.8\n",
    "size_training_bf_validation = int(len(indices) * training_test_split)\n",
    "training_validation_split = 0.8\n",
    "size_training = int(size_training_bf_validation * training_validation_split)\n",
    "size_validation = size_training_bf_validation - size_training\n",
    "size_test = len(indices) - size_training - size_validation\n",
    "\n",
    "training_idx = indices[:size_training]\n",
    "validation_idx = indices[size_training:(size_training+size_validation)]\n",
    "test_idx = indices[(size_training+size_validation):(size_training+size_validation+size_test)]"
   ]
  },
  {
   "cell_type": "code",
   "execution_count": null,
   "metadata": {},
   "outputs": [],
   "source": [
    "# Generate each dataset, save as hdf5 and release memory"
   ]
  },
  {
   "cell_type": "code",
   "execution_count": null,
   "metadata": {},
   "outputs": [],
   "source": [
    "# Training\n",
    "training_data = data[np.sort(training_idx),:]\n",
    "training_targets = targets[np.sort(training_idx),:]"
   ]
  },
  {
   "cell_type": "code",
   "execution_count": null,
   "metadata": {},
   "outputs": [],
   "source": [
    "training = h5py.File('/data/music/musicnet/hdf5/training.hdf5', 'w')\n",
    "training.create_dataset('data', data=training_data)\n",
    "training.create_dataset('targets', data=training_targets)\n",
    "training.close()"
   ]
  },
  {
   "cell_type": "code",
   "execution_count": null,
   "metadata": {},
   "outputs": [],
   "source": [
    "training_data = None\n",
    "training_targets = None\n",
    "gc.collect()"
   ]
  },
  {
   "cell_type": "code",
   "execution_count": null,
   "metadata": {},
   "outputs": [],
   "source": [
    "# Validatation\n",
    "validation_data = data[np.sort(validation_idx),:]\n",
    "validation_targets = targets[np.sort(validation_idx),:]"
   ]
  },
  {
   "cell_type": "code",
   "execution_count": null,
   "metadata": {},
   "outputs": [],
   "source": [
    "validation = h5py.File('/data/music/musicnet/hdf5/validation.hdf5', 'w')\n",
    "validation.create_dataset('data', data=validation_data)\n",
    "validation.create_dataset('targets', data=validation_targets)\n",
    "validation.close()"
   ]
  },
  {
   "cell_type": "code",
   "execution_count": null,
   "metadata": {},
   "outputs": [],
   "source": [
    "validation_data = None\n",
    "validation_targets = None\n",
    "gc.collect()"
   ]
  },
  {
   "cell_type": "code",
   "execution_count": null,
   "metadata": {},
   "outputs": [],
   "source": [
    "# Test\n",
    "test_data = data[np.sort(test_idx),:]\n",
    "test_targets = targets[np.sort(test_idx),:]"
   ]
  },
  {
   "cell_type": "code",
   "execution_count": null,
   "metadata": {},
   "outputs": [],
   "source": [
    "test = h5py.File('/data/music/musicnet/hdf5/test.hdf5', 'w')\n",
    "test.create_dataset('data', data=test_data)\n",
    "test.create_dataset('targets', data=test_targets)\n",
    "test.close()"
   ]
  },
  {
   "cell_type": "code",
   "execution_count": null,
   "metadata": {},
   "outputs": [],
   "source": [
    "test_data = None\n",
    "test_targets = None\n",
    "data = None\n",
    "targets = None\n",
    "training = None\n",
    "validation = None\n",
    "test = None\n",
    "gc.collect()"
   ]
  },
  {
   "cell_type": "code",
   "execution_count": null,
   "metadata": {},
   "outputs": [],
   "source": [
    "# CONVOLUTIONAL NETWORK"
   ]
  },
  {
   "cell_type": "code",
   "execution_count": 6,
   "metadata": {},
   "outputs": [],
   "source": [
    "# Define a model whose first layer is a mel-spectrogram (from Kapre)\n",
    "from keras.models import Sequential\n",
    "from keras import layers\n",
    "from kapre.time_frequency import Melspectrogram\n",
    "from kapre.utils import Normalization2D\n",
    "from kapre.augmentation import AdditiveNoise"
   ]
  },
  {
   "cell_type": "code",
   "execution_count": 7,
   "metadata": {},
   "outputs": [],
   "source": [
    "# Code inspired by https://github.com/keunwoochoi/kapre\n",
    "input_shape = (1, 88200)\n",
    "sr = 44100\n",
    "\n",
    "model = Sequential()\n",
    "# A mel-spectrogram layer\n",
    "model.add(Melspectrogram(n_dft=512, n_hop=256, input_shape=input_shape,\n",
    "                         padding='same', sr=sr, n_mels=64,\n",
    "                         fmin=0.0, fmax=sr/2, power_melgram=1.0,\n",
    "                         return_decibel_melgram=False, trainable_fb=False,\n",
    "                         trainable_kernel=False,\n",
    "                         name='trainable_stft'))\n",
    "# Add some white noise\n",
    "model.add(AdditiveNoise(power=0.2))\n",
    "# Normalise it per-frequency\n",
    "model.add(Normalization2D(str_axis='batch')) # or 'channel', 'time', 'batch', 'data_sample'\n",
    "# Add convolution layers\n",
    "model.add(layers.Conv2D(16, (3, 3), activation = 'relu'))\n",
    "model.add(layers.Conv2D(16, (3, 3), activation = 'relu'))\n",
    "model.add(layers.MaxPooling2D((3,3)))\n",
    "model.add(layers.Dropout(rate=0.1))\n",
    "\n",
    "model.add(layers.Conv2D(32, (3, 3), activation = 'relu'))\n",
    "model.add(layers.Conv2D(32, (3, 3), activation = 'relu'))\n",
    "model.add(layers.MaxPooling2D((3,3)))\n",
    "model.add(layers.Dropout(rate=0.1))\n",
    "\n",
    "model.add(layers.Conv2D(64, (3, 3), activation = 'relu'))\n",
    "model.add(layers.MaxPooling2D((3,3)))\n",
    "model.add(layers.Dropout(rate=0.1))\n",
    "\n",
    "model.add(layers.Flatten())\n",
    "model.add(layers.Dense(10, activation='softmax'))"
   ]
  },
  {
   "cell_type": "code",
   "execution_count": 8,
   "metadata": {},
   "outputs": [],
   "source": [
    "# Load the training and validation data from hdf5\n",
    "training = h5py.File('/data/music/musicnet/hdf5/training.hdf5', 'r')\n",
    "validation = h5py.File('/data/music/musicnet/hdf5/validation.hdf5', 'r')\n",
    "\n",
    "list(training.keys())\n",
    "training_data = training['data']\n",
    "training_targets = training['targets']\n",
    "\n",
    "list(validation.keys())\n",
    "validation_data = validation['data']\n",
    "validation_targets = validation['targets']"
   ]
  },
  {
   "cell_type": "code",
   "execution_count": 9,
   "metadata": {},
   "outputs": [],
   "source": [
    "# Compile model\n",
    "from keras import optimizers\n",
    "model.compile(optimizer = 'adam',\n",
    "              loss = 'categorical_crossentropy',\n",
    "              metrics=['accuracy'])"
   ]
  },
  {
   "cell_type": "code",
   "execution_count": 10,
   "metadata": {},
   "outputs": [],
   "source": [
    "#model.summary()"
   ]
  },
  {
   "cell_type": "code",
   "execution_count": 11,
   "metadata": {},
   "outputs": [
    {
     "name": "stdout",
     "output_type": "stream",
     "text": [
      "Train on 19710 samples, validate on 4928 samples\n",
      "Epoch 1/100\n",
      "19710/19710 [==============================] - 50s 3ms/step - loss: 1.5808 - acc: 0.5276 - val_loss: 1.6594 - val_acc: 0.5244\n",
      "Epoch 2/100\n",
      "19710/19710 [==============================] - 45s 2ms/step - loss: 1.5221 - acc: 0.5304 - val_loss: 1.5757 - val_acc: 0.5256\n",
      "Epoch 3/100\n",
      "19710/19710 [==============================] - 45s 2ms/step - loss: 1.4677 - acc: 0.5348 - val_loss: 1.4921 - val_acc: 0.5422\n",
      "Epoch 4/100\n",
      "19710/19710 [==============================] - 45s 2ms/step - loss: 1.3993 - acc: 0.5447 - val_loss: 1.4655 - val_acc: 0.5465\n",
      "Epoch 5/100\n",
      "19710/19710 [==============================] - 45s 2ms/step - loss: 1.3499 - acc: 0.5517 - val_loss: 1.4380 - val_acc: 0.5406\n",
      "Epoch 6/100\n",
      "19710/19710 [==============================] - 45s 2ms/step - loss: 1.3091 - acc: 0.5562 - val_loss: 1.4073 - val_acc: 0.5349\n",
      "Epoch 7/100\n",
      "19710/19710 [==============================] - 45s 2ms/step - loss: 1.2727 - acc: 0.5663 - val_loss: 1.4089 - val_acc: 0.5278\n",
      "Epoch 8/100\n",
      "19710/19710 [==============================] - 45s 2ms/step - loss: 1.2419 - acc: 0.5722 - val_loss: 1.3631 - val_acc: 0.5402\n",
      "Epoch 9/100\n",
      "19710/19710 [==============================] - 45s 2ms/step - loss: 1.2170 - acc: 0.5783 - val_loss: 1.3480 - val_acc: 0.5530\n",
      "Epoch 10/100\n",
      "19710/19710 [==============================] - 45s 2ms/step - loss: 1.1965 - acc: 0.5870 - val_loss: 1.3625 - val_acc: 0.5408\n",
      "Epoch 11/100\n",
      "19710/19710 [==============================] - 45s 2ms/step - loss: 1.1738 - acc: 0.5943 - val_loss: 1.3319 - val_acc: 0.5530\n",
      "Epoch 12/100\n",
      "19710/19710 [==============================] - 45s 2ms/step - loss: 1.1618 - acc: 0.5959 - val_loss: 1.3695 - val_acc: 0.5392\n",
      "Epoch 13/100\n",
      "19710/19710 [==============================] - 45s 2ms/step - loss: 1.1392 - acc: 0.6009 - val_loss: 1.3238 - val_acc: 0.5657\n",
      "Epoch 14/100\n",
      "19710/19710 [==============================] - 45s 2ms/step - loss: 1.1208 - acc: 0.6067 - val_loss: 1.3874 - val_acc: 0.5296\n",
      "Epoch 15/100\n",
      "19710/19710 [==============================] - 45s 2ms/step - loss: 1.1153 - acc: 0.6070 - val_loss: 1.3502 - val_acc: 0.5503\n",
      "Epoch 16/100\n",
      "19710/19710 [==============================] - 46s 2ms/step - loss: 1.1062 - acc: 0.6107 - val_loss: 1.3565 - val_acc: 0.5507\n",
      "Epoch 17/100\n",
      "19710/19710 [==============================] - 45s 2ms/step - loss: 1.0863 - acc: 0.6160 - val_loss: 1.3602 - val_acc: 0.5564\n",
      "Epoch 18/100\n",
      "19710/19710 [==============================] - 45s 2ms/step - loss: 1.0767 - acc: 0.6182 - val_loss: 1.3320 - val_acc: 0.5641\n",
      "Epoch 19/100\n",
      "19710/19710 [==============================] - 45s 2ms/step - loss: 1.0642 - acc: 0.6214 - val_loss: 1.3343 - val_acc: 0.5633\n",
      "Epoch 20/100\n",
      "19710/19710 [==============================] - 45s 2ms/step - loss: 1.0568 - acc: 0.6248 - val_loss: 1.3827 - val_acc: 0.5530\n",
      "Epoch 21/100\n",
      "19710/19710 [==============================] - 46s 2ms/step - loss: 1.0219 - acc: 0.6341 - val_loss: 1.3147 - val_acc: 0.5751\n",
      "Epoch 22/100\n",
      "19710/19710 [==============================] - 45s 2ms/step - loss: 1.0104 - acc: 0.6393 - val_loss: 1.3259 - val_acc: 0.5745\n",
      "Epoch 23/100\n",
      "19710/19710 [==============================] - 45s 2ms/step - loss: 1.0025 - acc: 0.6427 - val_loss: 1.3291 - val_acc: 0.5757\n",
      "Epoch 24/100\n",
      "19710/19710 [==============================] - 45s 2ms/step - loss: 1.0052 - acc: 0.6420 - val_loss: 1.3391 - val_acc: 0.5716\n",
      "Epoch 25/100\n",
      "19710/19710 [==============================] - 45s 2ms/step - loss: 1.0019 - acc: 0.6424 - val_loss: 1.3344 - val_acc: 0.5787\n",
      "Epoch 26/100\n",
      "19710/19710 [==============================] - 45s 2ms/step - loss: 0.9995 - acc: 0.6445 - val_loss: 1.3414 - val_acc: 0.5751\n",
      "Epoch 27/100\n",
      "19710/19710 [==============================] - 45s 2ms/step - loss: 0.9914 - acc: 0.6438 - val_loss: 1.3478 - val_acc: 0.5743\n",
      "Epoch 28/100\n",
      "19710/19710 [==============================] - 45s 2ms/step - loss: 0.9998 - acc: 0.6396 - val_loss: 1.3507 - val_acc: 0.5741\n",
      "Epoch 29/100\n",
      "19710/19710 [==============================] - 45s 2ms/step - loss: 0.9911 - acc: 0.6421 - val_loss: 1.3506 - val_acc: 0.5704\n",
      "Epoch 30/100\n",
      "19710/19710 [==============================] - 45s 2ms/step - loss: 0.9900 - acc: 0.6452 - val_loss: 1.3517 - val_acc: 0.5704\n",
      "Epoch 31/100\n",
      "19710/19710 [==============================] - 45s 2ms/step - loss: 0.9823 - acc: 0.6492 - val_loss: 1.3500 - val_acc: 0.5702\n",
      "Epoch 32/100\n",
      "19710/19710 [==============================] - 45s 2ms/step - loss: 0.9811 - acc: 0.6480 - val_loss: 1.3510 - val_acc: 0.5694\n",
      "Epoch 33/100\n",
      "19710/19710 [==============================] - 45s 2ms/step - loss: 0.9911 - acc: 0.6431 - val_loss: 1.3494 - val_acc: 0.5702\n",
      "Epoch 34/100\n",
      "19710/19710 [==============================] - 45s 2ms/step - loss: 0.9874 - acc: 0.6457 - val_loss: 1.3512 - val_acc: 0.5696\n",
      "Epoch 35/100\n",
      "19710/19710 [==============================] - 45s 2ms/step - loss: 0.9867 - acc: 0.6457 - val_loss: 1.3510 - val_acc: 0.5692\n",
      "Epoch 36/100\n",
      "19710/19710 [==============================] - 45s 2ms/step - loss: 0.9816 - acc: 0.6491 - val_loss: 1.3507 - val_acc: 0.5700\n",
      "Epoch 37/100\n",
      "19710/19710 [==============================] - 45s 2ms/step - loss: 0.9874 - acc: 0.6469 - val_loss: 1.3502 - val_acc: 0.5702\n",
      "Epoch 38/100\n",
      "19710/19710 [==============================] - 45s 2ms/step - loss: 0.9868 - acc: 0.6479 - val_loss: 1.3500 - val_acc: 0.5702\n",
      "Epoch 39/100\n",
      "19710/19710 [==============================] - 45s 2ms/step - loss: 0.9860 - acc: 0.6466 - val_loss: 1.3504 - val_acc: 0.5704\n",
      "Epoch 40/100\n",
      "19710/19710 [==============================] - 45s 2ms/step - loss: 0.9888 - acc: 0.6475 - val_loss: 1.3504 - val_acc: 0.5704\n",
      "Epoch 41/100\n",
      "19710/19710 [==============================] - 45s 2ms/step - loss: 0.9844 - acc: 0.6497 - val_loss: 1.3507 - val_acc: 0.5706\n",
      "Epoch 42/100\n",
      "19710/19710 [==============================] - 45s 2ms/step - loss: 0.9841 - acc: 0.6490 - val_loss: 1.3504 - val_acc: 0.5704\n",
      "Epoch 43/100\n",
      "19710/19710 [==============================] - 45s 2ms/step - loss: 0.9854 - acc: 0.6472 - val_loss: 1.3504 - val_acc: 0.5704\n",
      "Epoch 44/100\n",
      "19710/19710 [==============================] - 45s 2ms/step - loss: 0.9838 - acc: 0.6466 - val_loss: 1.3504 - val_acc: 0.5704\n",
      "Epoch 45/100\n",
      "19710/19710 [==============================] - 45s 2ms/step - loss: 0.9839 - acc: 0.6485 - val_loss: 1.3504 - val_acc: 0.5702\n",
      "Epoch 46/100\n",
      "19710/19710 [==============================] - 45s 2ms/step - loss: 0.9861 - acc: 0.6465 - val_loss: 1.3504 - val_acc: 0.5702\n",
      "Epoch 47/100\n",
      "19710/19710 [==============================] - 45s 2ms/step - loss: 0.9806 - acc: 0.6476 - val_loss: 1.3504 - val_acc: 0.5702\n",
      "Epoch 48/100\n",
      "19710/19710 [==============================] - 45s 2ms/step - loss: 0.9850 - acc: 0.6474 - val_loss: 1.3503 - val_acc: 0.5702\n",
      "Epoch 49/100\n",
      "19710/19710 [==============================] - 45s 2ms/step - loss: 0.9920 - acc: 0.6446 - val_loss: 1.3504 - val_acc: 0.5700\n",
      "Epoch 50/100\n",
      "19710/19710 [==============================] - 45s 2ms/step - loss: 0.9885 - acc: 0.6454 - val_loss: 1.3504 - val_acc: 0.5700\n",
      "Epoch 51/100\n",
      "19710/19710 [==============================] - 45s 2ms/step - loss: 0.9799 - acc: 0.6474 - val_loss: 1.3504 - val_acc: 0.5700\n",
      "Epoch 52/100\n",
      "19710/19710 [==============================] - 45s 2ms/step - loss: 0.9870 - acc: 0.6468 - val_loss: 1.3504 - val_acc: 0.5700\n",
      "Epoch 53/100\n",
      "19710/19710 [==============================] - 45s 2ms/step - loss: 0.9847 - acc: 0.6466 - val_loss: 1.3504 - val_acc: 0.5700\n",
      "Epoch 54/100\n",
      "19710/19710 [==============================] - 45s 2ms/step - loss: 0.9866 - acc: 0.6452 - val_loss: 1.3504 - val_acc: 0.5700\n",
      "Epoch 55/100\n",
      "19710/19710 [==============================] - 45s 2ms/step - loss: 0.9825 - acc: 0.6486 - val_loss: 1.3504 - val_acc: 0.5700\n",
      "Epoch 56/100\n",
      "19710/19710 [==============================] - 45s 2ms/step - loss: 0.9879 - acc: 0.6467 - val_loss: 1.3504 - val_acc: 0.5700\n",
      "Epoch 57/100\n",
      "19710/19710 [==============================] - 45s 2ms/step - loss: 0.9797 - acc: 0.6491 - val_loss: 1.3504 - val_acc: 0.5700\n",
      "Epoch 58/100\n",
      "19710/19710 [==============================] - 45s 2ms/step - loss: 0.9827 - acc: 0.6469 - val_loss: 1.3504 - val_acc: 0.5700\n",
      "Epoch 59/100\n"
     ]
    },
    {
     "name": "stdout",
     "output_type": "stream",
     "text": [
      "19710/19710 [==============================] - 45s 2ms/step - loss: 0.9819 - acc: 0.6481 - val_loss: 1.3504 - val_acc: 0.5700\n",
      "Epoch 60/100\n",
      "19710/19710 [==============================] - 45s 2ms/step - loss: 0.9820 - acc: 0.6455 - val_loss: 1.3504 - val_acc: 0.5700\n",
      "Epoch 61/100\n",
      "19710/19710 [==============================] - 45s 2ms/step - loss: 0.9876 - acc: 0.6440 - val_loss: 1.3504 - val_acc: 0.5700\n",
      "Epoch 62/100\n",
      "19710/19710 [==============================] - 45s 2ms/step - loss: 0.9841 - acc: 0.6486 - val_loss: 1.3504 - val_acc: 0.5700\n",
      "Epoch 63/100\n",
      "19710/19710 [==============================] - 45s 2ms/step - loss: 0.9875 - acc: 0.6471 - val_loss: 1.3504 - val_acc: 0.5700\n",
      "Epoch 64/100\n",
      "19710/19710 [==============================] - 45s 2ms/step - loss: 0.9835 - acc: 0.6453 - val_loss: 1.3504 - val_acc: 0.5700\n",
      "Epoch 65/100\n",
      "19710/19710 [==============================] - 45s 2ms/step - loss: 0.9820 - acc: 0.6506 - val_loss: 1.3504 - val_acc: 0.5700\n",
      "Epoch 66/100\n",
      "19710/19710 [==============================] - 45s 2ms/step - loss: 0.9869 - acc: 0.6456 - val_loss: 1.3504 - val_acc: 0.5700\n",
      "Epoch 67/100\n",
      "19710/19710 [==============================] - 45s 2ms/step - loss: 0.9808 - acc: 0.6496 - val_loss: 1.3504 - val_acc: 0.5700\n",
      "Epoch 68/100\n",
      "19710/19710 [==============================] - 45s 2ms/step - loss: 0.9860 - acc: 0.6489 - val_loss: 1.3504 - val_acc: 0.5700\n",
      "Epoch 69/100\n",
      "19710/19710 [==============================] - 45s 2ms/step - loss: 0.9833 - acc: 0.6473 - val_loss: 1.3504 - val_acc: 0.5700\n",
      "Epoch 70/100\n",
      "19710/19710 [==============================] - 45s 2ms/step - loss: 0.9837 - acc: 0.6472 - val_loss: 1.3504 - val_acc: 0.5700\n",
      "Epoch 71/100\n",
      "19710/19710 [==============================] - 45s 2ms/step - loss: 0.9849 - acc: 0.6496 - val_loss: 1.3504 - val_acc: 0.5700\n",
      "Epoch 72/100\n",
      "19710/19710 [==============================] - 45s 2ms/step - loss: 0.9857 - acc: 0.6450 - val_loss: 1.3504 - val_acc: 0.5700\n",
      "Epoch 73/100\n",
      "19710/19710 [==============================] - 45s 2ms/step - loss: 0.9872 - acc: 0.6485 - val_loss: 1.3504 - val_acc: 0.5700\n",
      "Epoch 74/100\n",
      "19710/19710 [==============================] - 45s 2ms/step - loss: 0.9879 - acc: 0.6492 - val_loss: 1.3504 - val_acc: 0.5700\n",
      "Epoch 75/100\n",
      "19710/19710 [==============================] - 45s 2ms/step - loss: 0.9831 - acc: 0.6477 - val_loss: 1.3504 - val_acc: 0.5700\n",
      "Epoch 76/100\n",
      "19710/19710 [==============================] - 45s 2ms/step - loss: 0.9881 - acc: 0.6456 - val_loss: 1.3504 - val_acc: 0.5700\n",
      "Epoch 77/100\n",
      "19710/19710 [==============================] - 45s 2ms/step - loss: 0.9852 - acc: 0.6476 - val_loss: 1.3504 - val_acc: 0.5700\n",
      "Epoch 78/100\n",
      "19710/19710 [==============================] - 45s 2ms/step - loss: 0.9852 - acc: 0.6480 - val_loss: 1.3504 - val_acc: 0.5700\n",
      "Epoch 79/100\n",
      "19710/19710 [==============================] - 45s 2ms/step - loss: 0.9822 - acc: 0.6490 - val_loss: 1.3504 - val_acc: 0.5700\n",
      "Epoch 80/100\n",
      "19710/19710 [==============================] - 45s 2ms/step - loss: 0.9846 - acc: 0.6471 - val_loss: 1.3504 - val_acc: 0.5700\n",
      "Epoch 81/100\n",
      "19710/19710 [==============================] - 45s 2ms/step - loss: 0.9871 - acc: 0.6450 - val_loss: 1.3504 - val_acc: 0.5700\n",
      "Epoch 82/100\n",
      "19710/19710 [==============================] - 45s 2ms/step - loss: 0.9882 - acc: 0.6472 - val_loss: 1.3504 - val_acc: 0.5700\n",
      "Epoch 83/100\n",
      "19710/19710 [==============================] - 45s 2ms/step - loss: 0.9833 - acc: 0.6465 - val_loss: 1.3504 - val_acc: 0.5700\n",
      "Epoch 84/100\n",
      "19710/19710 [==============================] - 45s 2ms/step - loss: 0.9842 - acc: 0.6446 - val_loss: 1.3504 - val_acc: 0.5700\n",
      "Epoch 85/100\n",
      "19710/19710 [==============================] - 45s 2ms/step - loss: 0.9851 - acc: 0.6466 - val_loss: 1.3504 - val_acc: 0.5700\n",
      "Epoch 86/100\n",
      "19710/19710 [==============================] - 45s 2ms/step - loss: 0.9851 - acc: 0.6501 - val_loss: 1.3504 - val_acc: 0.5700\n",
      "Epoch 87/100\n",
      "19710/19710 [==============================] - 45s 2ms/step - loss: 0.9881 - acc: 0.6464 - val_loss: 1.3504 - val_acc: 0.5700\n",
      "Epoch 88/100\n",
      "19710/19710 [==============================] - 45s 2ms/step - loss: 0.9868 - acc: 0.6463 - val_loss: 1.3504 - val_acc: 0.5700\n",
      "Epoch 89/100\n",
      "19710/19710 [==============================] - 45s 2ms/step - loss: 0.9839 - acc: 0.6461 - val_loss: 1.3504 - val_acc: 0.5700\n",
      "Epoch 90/100\n",
      "19710/19710 [==============================] - 45s 2ms/step - loss: 0.9847 - acc: 0.6464 - val_loss: 1.3504 - val_acc: 0.5700\n",
      "Epoch 91/100\n",
      "19710/19710 [==============================] - 45s 2ms/step - loss: 0.9819 - acc: 0.6470 - val_loss: 1.3504 - val_acc: 0.5700\n",
      "Epoch 92/100\n",
      "19710/19710 [==============================] - 45s 2ms/step - loss: 0.9875 - acc: 0.6457 - val_loss: 1.3504 - val_acc: 0.5700\n",
      "Epoch 93/100\n",
      "19710/19710 [==============================] - 45s 2ms/step - loss: 0.9864 - acc: 0.6452 - val_loss: 1.3504 - val_acc: 0.5700\n",
      "Epoch 94/100\n",
      "19710/19710 [==============================] - 45s 2ms/step - loss: 0.9835 - acc: 0.6462 - val_loss: 1.3504 - val_acc: 0.5700\n",
      "Epoch 95/100\n",
      "19710/19710 [==============================] - 45s 2ms/step - loss: 0.9812 - acc: 0.6469 - val_loss: 1.3504 - val_acc: 0.5700\n",
      "Epoch 96/100\n",
      "19710/19710 [==============================] - 45s 2ms/step - loss: 0.9821 - acc: 0.6476 - val_loss: 1.3504 - val_acc: 0.5700\n",
      "Epoch 97/100\n",
      "19710/19710 [==============================] - 44s 2ms/step - loss: 0.9841 - acc: 0.6481 - val_loss: 1.3504 - val_acc: 0.5700\n",
      "Epoch 98/100\n",
      "19710/19710 [==============================] - 44s 2ms/step - loss: 0.9858 - acc: 0.6449 - val_loss: 1.3504 - val_acc: 0.5700\n",
      "Epoch 99/100\n",
      "19710/19710 [==============================] - 44s 2ms/step - loss: 0.9817 - acc: 0.6491 - val_loss: 1.3504 - val_acc: 0.5700\n",
      "Epoch 100/100\n",
      "19710/19710 [==============================] - 43s 2ms/step - loss: 0.9844 - acc: 0.6489 - val_loss: 1.3504 - val_acc: 0.5700\n"
     ]
    }
   ],
   "source": [
    "file_path=\"/home/ubuntu/code/trained_model/music/music-weights-improvement-{epoch:02d}-{val_loss:.4f}-{val_acc:.2f}.hdf5\"\n",
    "\n",
    "callbacks_list = [\n",
    "        #keras.callbacks.EarlyStopping(monitor='acc', patience=2,),\n",
    "        keras.callbacks.ModelCheckpoint(filepath=file_path, monitor='val_loss', save_best_only=True,),\n",
    "        keras.callbacks.ReduceLROnPlateau(monitor='val_loss', factor=0.1, patience=7,)]\n",
    "\n",
    "history = model.fit(training_data, \n",
    "                    training_targets,\n",
    "                    epochs = 100,\n",
    "                    batch_size = 150,\n",
    "                    callbacks=callbacks_list,\n",
    "                    validation_data=(validation_data, validation_targets),\n",
    "                    shuffle=False)"
   ]
  },
  {
   "cell_type": "code",
   "execution_count": 12,
   "metadata": {},
   "outputs": [
    {
     "data": {
      "image/png": "[encoded data removed]",
      "text/plain": [
       "<Figure size 432x288 with 1 Axes>"
      ]
     },
     "metadata": {},
     "output_type": "display_data"
    }
   ],
   "source": [
    "import matplotlib.pyplot as plt\n",
    "import matplotlib.gridspec as gridspec\n",
    "\n",
    "# Total Loss\n",
    "loss = history.history['loss']\n",
    "val_loss = history.history['val_loss']\n",
    "epochs = range(1, len(loss) + 1)\n",
    "plt.plot(epochs, loss, 'bo', label='Training loss')\n",
    "plt.plot(epochs, val_loss, 'b', label='Validation loss')\n",
    "plt.title('Joint - Training and validation loss')\n",
    "plt.xlabel('Epochs')\n",
    "plt.ylabel('Loss')\n",
    "plt.legend()\n",
    "plt.show()"
   ]
  },
  {
   "cell_type": "code",
   "execution_count": 13,
   "metadata": {},
   "outputs": [
    {
     "data": {
      "image/png": "[encoded data removed]",
      "text/plain": [
       "<Figure size 432x288 with 1 Axes>"
      ]
     },
     "metadata": {},
     "output_type": "display_data"
    }
   ],
   "source": [
    "acc = history.history['acc']\n",
    "val_acc = history.history['val_acc']\n",
    "epochs = range(1, len(loss) + 1)\n",
    "plt.subplots(1)\n",
    "plt.plot(epochs, acc, 'bo', label='Training accuracy')\n",
    "plt.plot(epochs, val_acc, 'b', label='Validation accuracy')\n",
    "plt.title('Gender - Training and validation accuracy')\n",
    "plt.xlabel('Epochs')\n",
    "plt.ylabel('Loss')\n",
    "plt.legend()\n",
    "plt.show()"
   ]
  },
  {
   "cell_type": "code",
   "execution_count": 14,
   "metadata": {},
   "outputs": [
    {
     "ename": "OSError",
     "evalue": "Unable to open file (unable to open file: name = '/data/music/musicnet/hdf5/test.hdf5', errno = 2, error message = 'No such file or directory', flags = 0, o_flags = 0)",
     "output_type": "error",
     "traceback": [
      "\u001b[0;31m---------------------------------------------------------------------------\u001b[0m",
      "\u001b[0;31mOSError\u001b[0m                                   Traceback (most recent call last)",
      "\u001b[0;32m<ipython-input-14-23194a76de83>\u001b[0m in \u001b[0;36m<module>\u001b[0;34m()\u001b[0m\n\u001b[1;32m      1\u001b[0m \u001b[0;31m# Do test predictions and compare performance with baseline\u001b[0m\u001b[0;34m\u001b[0m\u001b[0;34m\u001b[0m\u001b[0m\n\u001b[0;32m----> 2\u001b[0;31m \u001b[0mtest\u001b[0m \u001b[0;34m=\u001b[0m \u001b[0mh5py\u001b[0m\u001b[0;34m.\u001b[0m\u001b[0mFile\u001b[0m\u001b[0;34m(\u001b[0m\u001b[0;34m'/data/music/musicnet/hdf5/test.hdf5'\u001b[0m\u001b[0;34m,\u001b[0m \u001b[0;34m'r'\u001b[0m\u001b[0;34m)\u001b[0m\u001b[0;34m\u001b[0m\u001b[0m\n\u001b[0m\u001b[1;32m      3\u001b[0m \u001b[0;34m\u001b[0m\u001b[0m\n\u001b[1;32m      4\u001b[0m \u001b[0mlist\u001b[0m\u001b[0;34m(\u001b[0m\u001b[0mtest\u001b[0m\u001b[0;34m.\u001b[0m\u001b[0mkeys\u001b[0m\u001b[0;34m(\u001b[0m\u001b[0;34m)\u001b[0m\u001b[0;34m)\u001b[0m\u001b[0;34m\u001b[0m\u001b[0m\n\u001b[1;32m      5\u001b[0m \u001b[0mtest_data\u001b[0m \u001b[0;34m=\u001b[0m \u001b[0mtest\u001b[0m\u001b[0;34m[\u001b[0m\u001b[0;34m'data'\u001b[0m\u001b[0;34m]\u001b[0m\u001b[0;34m\u001b[0m\u001b[0m\n",
      "\u001b[0;32m~/anaconda3/envs/tensorflow_p36/lib/python3.6/site-packages/h5py/_hl/files.py\u001b[0m in \u001b[0;36m__init__\u001b[0;34m(self, name, mode, driver, libver, userblock_size, swmr, **kwds)\u001b[0m\n\u001b[1;32m    310\u001b[0m             \u001b[0;32mwith\u001b[0m \u001b[0mphil\u001b[0m\u001b[0;34m:\u001b[0m\u001b[0;34m\u001b[0m\u001b[0m\n\u001b[1;32m    311\u001b[0m                 \u001b[0mfapl\u001b[0m \u001b[0;34m=\u001b[0m \u001b[0mmake_fapl\u001b[0m\u001b[0;34m(\u001b[0m\u001b[0mdriver\u001b[0m\u001b[0;34m,\u001b[0m \u001b[0mlibver\u001b[0m\u001b[0;34m,\u001b[0m \u001b[0;34m**\u001b[0m\u001b[0mkwds\u001b[0m\u001b[0;34m)\u001b[0m\u001b[0;34m\u001b[0m\u001b[0m\n\u001b[0;32m--> 312\u001b[0;31m                 \u001b[0mfid\u001b[0m \u001b[0;34m=\u001b[0m \u001b[0mmake_fid\u001b[0m\u001b[0;34m(\u001b[0m\u001b[0mname\u001b[0m\u001b[0;34m,\u001b[0m \u001b[0mmode\u001b[0m\u001b[0;34m,\u001b[0m \u001b[0muserblock_size\u001b[0m\u001b[0;34m,\u001b[0m \u001b[0mfapl\u001b[0m\u001b[0;34m,\u001b[0m \u001b[0mswmr\u001b[0m\u001b[0;34m=\u001b[0m\u001b[0mswmr\u001b[0m\u001b[0;34m)\u001b[0m\u001b[0;34m\u001b[0m\u001b[0m\n\u001b[0m\u001b[1;32m    313\u001b[0m \u001b[0;34m\u001b[0m\u001b[0m\n\u001b[1;32m    314\u001b[0m                 \u001b[0;32mif\u001b[0m \u001b[0mswmr_support\u001b[0m\u001b[0;34m:\u001b[0m\u001b[0;34m\u001b[0m\u001b[0m\n",
      "\u001b[0;32m~/anaconda3/envs/tensorflow_p36/lib/python3.6/site-packages/h5py/_hl/files.py\u001b[0m in \u001b[0;36mmake_fid\u001b[0;34m(name, mode, userblock_size, fapl, fcpl, swmr)\u001b[0m\n\u001b[1;32m    140\u001b[0m         \u001b[0;32mif\u001b[0m \u001b[0mswmr\u001b[0m \u001b[0;32mand\u001b[0m \u001b[0mswmr_support\u001b[0m\u001b[0;34m:\u001b[0m\u001b[0;34m\u001b[0m\u001b[0m\n\u001b[1;32m    141\u001b[0m             \u001b[0mflags\u001b[0m \u001b[0;34m|=\u001b[0m \u001b[0mh5f\u001b[0m\u001b[0;34m.\u001b[0m\u001b[0mACC_SWMR_READ\u001b[0m\u001b[0;34m\u001b[0m\u001b[0m\n\u001b[0;32m--> 142\u001b[0;31m         \u001b[0mfid\u001b[0m \u001b[0;34m=\u001b[0m \u001b[0mh5f\u001b[0m\u001b[0;34m.\u001b[0m\u001b[0mopen\u001b[0m\u001b[0;34m(\u001b[0m\u001b[0mname\u001b[0m\u001b[0;34m,\u001b[0m \u001b[0mflags\u001b[0m\u001b[0;34m,\u001b[0m \u001b[0mfapl\u001b[0m\u001b[0;34m=\u001b[0m\u001b[0mfapl\u001b[0m\u001b[0;34m)\u001b[0m\u001b[0;34m\u001b[0m\u001b[0m\n\u001b[0m\u001b[1;32m    143\u001b[0m     \u001b[0;32melif\u001b[0m \u001b[0mmode\u001b[0m \u001b[0;34m==\u001b[0m \u001b[0;34m'r+'\u001b[0m\u001b[0;34m:\u001b[0m\u001b[0;34m\u001b[0m\u001b[0m\n\u001b[1;32m    144\u001b[0m         \u001b[0mfid\u001b[0m \u001b[0;34m=\u001b[0m \u001b[0mh5f\u001b[0m\u001b[0;34m.\u001b[0m\u001b[0mopen\u001b[0m\u001b[0;34m(\u001b[0m\u001b[0mname\u001b[0m\u001b[0;34m,\u001b[0m \u001b[0mh5f\u001b[0m\u001b[0;34m.\u001b[0m\u001b[0mACC_RDWR\u001b[0m\u001b[0;34m,\u001b[0m \u001b[0mfapl\u001b[0m\u001b[0;34m=\u001b[0m\u001b[0mfapl\u001b[0m\u001b[0;34m)\u001b[0m\u001b[0;34m\u001b[0m\u001b[0m\n",
      "\u001b[0;32mh5py/_objects.pyx\u001b[0m in \u001b[0;36mh5py._objects.with_phil.wrapper\u001b[0;34m()\u001b[0m\n",
      "\u001b[0;32mh5py/_objects.pyx\u001b[0m in \u001b[0;36mh5py._objects.with_phil.wrapper\u001b[0;34m()\u001b[0m\n",
      "\u001b[0;32mh5py/h5f.pyx\u001b[0m in \u001b[0;36mh5py.h5f.open\u001b[0;34m()\u001b[0m\n",
      "\u001b[0;31mOSError\u001b[0m: Unable to open file (unable to open file: name = '/data/music/musicnet/hdf5/test.hdf5', errno = 2, error message = 'No such file or directory', flags = 0, o_flags = 0)"
     ]
    }
   ],
   "source": [
    "# Do test predictions and compare performance with baseline\n",
    "test = h5py.File('/data/music/musicnet/hdf5/test.hdf5', 'r')\n",
    "\n",
    "list(test.keys())\n",
    "test_data = test['data']\n",
    "test_targets = test['targets']"
   ]
  },
  {
   "cell_type": "code",
   "execution_count": null,
   "metadata": {},
   "outputs": [],
   "source": [
    "test_predictions = model.predict(test_data)"
   ]
  },
  {
   "cell_type": "code",
   "execution_count": null,
   "metadata": {},
   "outputs": [],
   "source": [
    "test_predicted_labels = np.argmax(test_predictions, axis=1)\n",
    "test_target_labels = np.argmax(test_targets, axis=1)"
   ]
  },
  {
   "cell_type": "code",
   "execution_count": null,
   "metadata": {},
   "outputs": [],
   "source": [
    "from sklearn.metrics import accuracy_score, roc_auc_score, classification_report\n",
    "print('Accuracy ', accuracy_score(test_target_labels, test_predicted_labels))\n",
    "print(classification_report(test_target_labels, test_predicted_labels))"
   ]
  },
  {
   "cell_type": "code",
   "execution_count": null,
   "metadata": {},
   "outputs": [],
   "source": [
    "# Compare with baseline classifier (in this case we pick the most popular class)\n",
    "most_popular = np.argmax(np.bincount(test_target_labels))"
   ]
  },
  {
   "cell_type": "code",
   "execution_count": null,
   "metadata": {},
   "outputs": [],
   "source": [
    "baseline_prediction = np.repeat(most_popular, test_target_labels.shape[0])"
   ]
  },
  {
   "cell_type": "code",
   "execution_count": null,
   "metadata": {},
   "outputs": [],
   "source": [
    "print('Accuracy ', accuracy_score(test_target_labels, baseline_prediction))\n",
    "print(classification_report(test_target_labels, baseline_prediction))"
   ]
  },
  {
   "cell_type": "code",
   "execution_count": null,
   "metadata": {},
   "outputs": [],
   "source": []
  }
 ],
 "metadata": {
  "kernelspec": {
   "display_name": "Python [conda env:tensorflow_p36]",
   "language": "python",
   "name": "conda-env-tensorflow_p36-py"
  },
  "language_info": {
   "codemirror_mode": {
    "name": "ipython",
    "version": 3
   },
   "file_extension": ".py",
   "mimetype": "text/x-python",
   "name": "python",
   "nbconvert_exporter": "python",
   "pygments_lexer": "ipython3",
   "version": "3.6.5"
  }
 },
 "nbformat": 4,
 "nbformat_minor": 2
}
