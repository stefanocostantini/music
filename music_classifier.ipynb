{
 "cells": [
  {
   "cell_type": "code",
   "execution_count": 1,
   "metadata": {},
   "outputs": [
    {
     "name": "stderr",
     "output_type": "stream",
     "text": [
      "Using TensorFlow backend.\n"
     ]
    }
   ],
   "source": [
    "%matplotlib inline\n",
    "import numpy as np\n",
    "import pandas as pd\n",
    "import kapre\n",
    "import keras\n",
    "import os\n",
    "import soundfile as sf\n",
    "import time\n",
    "import progressbar\n",
    "import gc\n",
    "import h5py"
   ]
  },
  {
   "cell_type": "code",
   "execution_count": 2,
   "metadata": {},
   "outputs": [],
   "source": [
    "# Load metadata to extract labels\n",
    "metadata = pd.read_csv('/data/music/musicnet/metadata.csv')"
   ]
  },
  {
   "cell_type": "code",
   "execution_count": 3,
   "metadata": {},
   "outputs": [
    {
     "data": {
      "text/html": [
       "<div>\n",
       "<style scoped>\n",
       "    .dataframe tbody tr th:only-of-type {\n",
       "        vertical-align: middle;\n",
       "    }\n",
       "\n",
       "    .dataframe tbody tr th {\n",
       "        vertical-align: top;\n",
       "    }\n",
       "\n",
       "    .dataframe thead th {\n",
       "        text-align: right;\n",
       "    }\n",
       "</style>\n",
       "<table border=\"1\" class=\"dataframe\">\n",
       "  <thead>\n",
       "    <tr style=\"text-align: right;\">\n",
       "      <th></th>\n",
       "      <th>id</th>\n",
       "      <th>composer</th>\n",
       "      <th>composition</th>\n",
       "      <th>movement</th>\n",
       "      <th>ensemble</th>\n",
       "      <th>source</th>\n",
       "      <th>transcriber</th>\n",
       "      <th>catalog_name</th>\n",
       "      <th>seconds</th>\n",
       "    </tr>\n",
       "  </thead>\n",
       "  <tbody>\n",
       "    <tr>\n",
       "      <th>0</th>\n",
       "      <td>1727</td>\n",
       "      <td>Schubert</td>\n",
       "      <td>Piano Quintet in A major</td>\n",
       "      <td>2. Andante</td>\n",
       "      <td>Piano Quintet</td>\n",
       "      <td>European Archive</td>\n",
       "      <td>http://tirolmusic.blogspot.com/</td>\n",
       "      <td>OP114</td>\n",
       "      <td>447</td>\n",
       "    </tr>\n",
       "    <tr>\n",
       "      <th>1</th>\n",
       "      <td>1728</td>\n",
       "      <td>Schubert</td>\n",
       "      <td>Piano Quintet in A major</td>\n",
       "      <td>3. Scherzo: Presto</td>\n",
       "      <td>Piano Quintet</td>\n",
       "      <td>European Archive</td>\n",
       "      <td>http://tirolmusic.blogspot.com/</td>\n",
       "      <td>OP114</td>\n",
       "      <td>251</td>\n",
       "    </tr>\n",
       "    <tr>\n",
       "      <th>2</th>\n",
       "      <td>1729</td>\n",
       "      <td>Schubert</td>\n",
       "      <td>Piano Quintet in A major</td>\n",
       "      <td>4. Andantino - Allegretto</td>\n",
       "      <td>Piano Quintet</td>\n",
       "      <td>European Archive</td>\n",
       "      <td>http://tirolmusic.blogspot.com/</td>\n",
       "      <td>OP114</td>\n",
       "      <td>444</td>\n",
       "    </tr>\n",
       "    <tr>\n",
       "      <th>3</th>\n",
       "      <td>1730</td>\n",
       "      <td>Schubert</td>\n",
       "      <td>Piano Quintet in A major</td>\n",
       "      <td>5. Allegro giusto</td>\n",
       "      <td>Piano Quintet</td>\n",
       "      <td>European Archive</td>\n",
       "      <td>http://tirolmusic.blogspot.com/</td>\n",
       "      <td>OP114</td>\n",
       "      <td>368</td>\n",
       "    </tr>\n",
       "    <tr>\n",
       "      <th>4</th>\n",
       "      <td>1733</td>\n",
       "      <td>Schubert</td>\n",
       "      <td>Piano Sonata in A major</td>\n",
       "      <td>2. Andantino</td>\n",
       "      <td>Solo Piano</td>\n",
       "      <td>Museopen</td>\n",
       "      <td>Segundo G. Yogore</td>\n",
       "      <td>D959</td>\n",
       "      <td>546</td>\n",
       "    </tr>\n",
       "  </tbody>\n",
       "</table>\n",
       "</div>"
      ],
      "text/plain": [
       "     id  composer               composition                   movement  \\\n",
       "0  1727  Schubert  Piano Quintet in A major                 2. Andante   \n",
       "1  1728  Schubert  Piano Quintet in A major         3. Scherzo: Presto   \n",
       "2  1729  Schubert  Piano Quintet in A major  4. Andantino - Allegretto   \n",
       "3  1730  Schubert  Piano Quintet in A major          5. Allegro giusto   \n",
       "4  1733  Schubert   Piano Sonata in A major               2. Andantino   \n",
       "\n",
       "        ensemble            source                      transcriber  \\\n",
       "0  Piano Quintet  European Archive  http://tirolmusic.blogspot.com/   \n",
       "1  Piano Quintet  European Archive  http://tirolmusic.blogspot.com/   \n",
       "2  Piano Quintet  European Archive  http://tirolmusic.blogspot.com/   \n",
       "3  Piano Quintet  European Archive  http://tirolmusic.blogspot.com/   \n",
       "4     Solo Piano          Museopen                Segundo G. Yogore   \n",
       "\n",
       "  catalog_name  seconds  \n",
       "0        OP114      447  \n",
       "1        OP114      251  \n",
       "2        OP114      444  \n",
       "3        OP114      368  \n",
       "4         D959      546  "
      ]
     },
     "execution_count": 3,
     "metadata": {},
     "output_type": "execute_result"
    }
   ],
   "source": [
    "metadata.head()"
   ]
  },
  {
   "cell_type": "code",
   "execution_count": 4,
   "metadata": {},
   "outputs": [
    {
     "data": {
      "text/plain": [
       "['Schubert', 'Bach', 'Beethoven']"
      ]
     },
     "execution_count": 4,
     "metadata": {},
     "output_type": "execute_result"
    }
   ],
   "source": [
    "# Construct a dictionary id --> composer, which will be used later to set the labels for all sound snippets\n",
    "composers = pd.Series(metadata.composer.values,index=metadata.id).to_dict()\n",
    "examples = [1755, 2211, 2368]\n",
    "[composers.get(example) for example in examples]"
   ]
  },
  {
   "cell_type": "code",
   "execution_count": 5,
   "metadata": {},
   "outputs": [],
   "source": [
    "# Creating dataset\n",
    "# First we define a function to load the audio snippets and to create the labels\n",
    "def load_audio(path, downsampling_rate, duration_sec, composers):\n",
    "        '''Requires the soundfile package, imported as sf '''\n",
    "        files = os.listdir(path)\n",
    "        message = \"Processing {0} audio files...\".format(len(files))\n",
    "        print(message)\n",
    "        message = \"Downsampling dataset to {0}% (equivalent to {1} audio files).\".format(downsampling_rate*100, int(downsampling_rate * len(files)) )\n",
    "        print(message)\n",
    "        \n",
    "        ds = np.random.choice(files, int(len(files) * downsampling_rate), replace=False)\n",
    "        \n",
    "        # Initialise empty arrays\n",
    "        data = np.zeros((len(ds), 1, 88200))\n",
    "        labels = np.zeros(len(ds), dtype = \"<U10\")\n",
    "        \n",
    "        with progressbar.ProgressBar(max_value=len(ds)) as bar:\n",
    "            \n",
    "            for i, file in enumerate(ds):\n",
    "                # load and process file, then add to array\n",
    "                audio_clip, sr = sf.read(path + file)\n",
    "                audio_clip = audio_clip[:int(sr*duration_sec)]\n",
    "                audio_clip = audio_clip[np.newaxis, :]\n",
    "                data[i, :audio_clip.shape[0],:audio_clip.shape[1]] = audio_clip\n",
    "                audio_clip = None\n",
    "            \n",
    "                # look up label and add to array\n",
    "                file_id = file.split(\"-\")[0]\n",
    "                label = composers[int(file_id)]\n",
    "                labels[i] = label \n",
    "                label = None\n",
    "                bar.update(i)\n",
    "            \n",
    "        return labels, data\n",
    "        "
   ]
  },
  {
   "cell_type": "code",
   "execution_count": 7,
   "metadata": {},
   "outputs": [
    {
     "name": "stderr",
     "output_type": "stream",
     "text": [
      "  0% (215 of 61596) |                    | Elapsed Time: 0:00:00 ETA:   0:00:28"
     ]
    },
    {
     "name": "stdout",
     "output_type": "stream",
     "text": [
      "Processing 61596 audio files...\n",
      "Downsampling dataset to 100% (equivalent to 61596 audio files).\n"
     ]
    },
    {
     "name": "stderr",
     "output_type": "stream",
     "text": [
      "100% (61596 of 61596) |##################| Elapsed Time: 0:02:23 Time:  0:02:23\n"
     ]
    }
   ],
   "source": [
    "# These sections can be skipped as there's no need to re-create these variables:\n",
    "# they can be loaded from disk.\n",
    "#\n",
    "# Load audio files, process them and create dataset and labels\n",
    "labels, data = load_audio(\"/data/music/musicnet/data_chunks/\", 1, 2, composers)"
   ]
  },
  {
   "cell_type": "code",
   "execution_count": 8,
   "metadata": {},
   "outputs": [
    {
     "data": {
      "text/plain": [
       "(61596, 10)"
      ]
     },
     "execution_count": 8,
     "metadata": {},
     "output_type": "execute_result"
    }
   ],
   "source": [
    "# Turn labels to categorical (one-hot encoding)\n",
    "labels_pd = pd.DataFrame(labels)\n",
    "onehot = pd.get_dummies(labels_pd)\n",
    "targets = onehot.as_matrix()\n",
    "targets.shape"
   ]
  },
  {
   "cell_type": "code",
   "execution_count": 10,
   "metadata": {},
   "outputs": [],
   "source": [
    "# Store datasets as hdf5 files\n",
    "all_data = h5py.File('/data/music/musicnet/hdf5/data.hdf5', 'w')\n",
    "all_data.create_dataset('data', data=data)\n",
    "all_data.create_dataset('targets', data=targets)\n",
    "all_data.close()"
   ]
  },
  {
   "cell_type": "code",
   "execution_count": 11,
   "metadata": {},
   "outputs": [
    {
     "data": {
      "text/plain": [
       "129"
      ]
     },
     "execution_count": 11,
     "metadata": {},
     "output_type": "execute_result"
    }
   ],
   "source": [
    "# Remove variables and release all memory\n",
    "data = None\n",
    "targets = None\n",
    "gc.collect()"
   ]
  },
  {
   "cell_type": "code",
   "execution_count": 12,
   "metadata": {},
   "outputs": [],
   "source": [
    "# Create training, validation and test datasets\n",
    "all_data = h5py.File('/data/music/musicnet/hdf5/data.hdf5', 'r')\n",
    "list(all_data.keys())\n",
    "data = all_data['data']\n",
    "targets = all_data['targets']"
   ]
  },
  {
   "cell_type": "code",
   "execution_count": 13,
   "metadata": {},
   "outputs": [],
   "source": [
    "# Get indices for random sampling of datasets\n",
    "indices = np.random.permutation(data.shape[0])\n",
    "training_test_split = 0.8\n",
    "size_training_bf_validation = int(len(indices) * training_test_split)\n",
    "training_validation_split = 0.8\n",
    "size_training = int(size_training_bf_validation * training_validation_split)\n",
    "size_validation = size_training_bf_validation - size_training\n",
    "size_test = len(indices) - size_training - size_validation\n",
    "\n",
    "training_idx = indices[:size_training]\n",
    "validation_idx = indices[size_training:(size_training+size_validation)]\n",
    "test_idx = indices[(size_training+size_validation):(size_training+size_validation+size_test)]"
   ]
  },
  {
   "cell_type": "code",
   "execution_count": 14,
   "metadata": {},
   "outputs": [],
   "source": [
    "# Generate each dataset, save as hdf5 and release memory"
   ]
  },
  {
   "cell_type": "code",
   "execution_count": 15,
   "metadata": {},
   "outputs": [],
   "source": [
    "# Training\n",
    "training_data = data[np.sort(training_idx),:]\n",
    "training_targets = targets[np.sort(training_idx),:]"
   ]
  },
  {
   "cell_type": "code",
   "execution_count": 16,
   "metadata": {},
   "outputs": [],
   "source": [
    "training = h5py.File('/data/music/musicnet/hdf5/training.hdf5', 'w')\n",
    "training.create_dataset('data', data=training_data)\n",
    "training.create_dataset('targets', data=training_targets)\n",
    "training.close()"
   ]
  },
  {
   "cell_type": "code",
   "execution_count": 17,
   "metadata": {},
   "outputs": [
    {
     "data": {
      "text/plain": [
       "0"
      ]
     },
     "execution_count": 17,
     "metadata": {},
     "output_type": "execute_result"
    }
   ],
   "source": [
    "training_data = None\n",
    "training_targets = None\n",
    "gc.collect()"
   ]
  },
  {
   "cell_type": "code",
   "execution_count": 18,
   "metadata": {},
   "outputs": [],
   "source": [
    "# Validatation\n",
    "validation_data = data[np.sort(validation_idx),:]\n",
    "validation_targets = targets[np.sort(validation_idx),:]"
   ]
  },
  {
   "cell_type": "code",
   "execution_count": 19,
   "metadata": {},
   "outputs": [],
   "source": [
    "validation = h5py.File('/data/music/musicnet/hdf5/validation.hdf5', 'w')\n",
    "validation.create_dataset('data', data=validation_data)\n",
    "validation.create_dataset('targets', data=validation_targets)\n",
    "validation.close()"
   ]
  },
  {
   "cell_type": "code",
   "execution_count": 20,
   "metadata": {},
   "outputs": [
    {
     "data": {
      "text/plain": [
       "0"
      ]
     },
     "execution_count": 20,
     "metadata": {},
     "output_type": "execute_result"
    }
   ],
   "source": [
    "validation_data = None\n",
    "validation_targets = None\n",
    "gc.collect()"
   ]
  },
  {
   "cell_type": "code",
   "execution_count": 21,
   "metadata": {},
   "outputs": [],
   "source": [
    "# Test\n",
    "test_data = data[np.sort(test_idx),:]\n",
    "test_targets = targets[np.sort(test_idx),:]"
   ]
  },
  {
   "cell_type": "code",
   "execution_count": 22,
   "metadata": {},
   "outputs": [],
   "source": [
    "test = h5py.File('/data/music/musicnet/hdf5/test.hdf5', 'w')\n",
    "test.create_dataset('data', data=test_data)\n",
    "test.create_dataset('targets', data=test_targets)\n",
    "test.close()"
   ]
  },
  {
   "cell_type": "code",
   "execution_count": 23,
   "metadata": {},
   "outputs": [
    {
     "data": {
      "text/plain": [
       "0"
      ]
     },
     "execution_count": 23,
     "metadata": {},
     "output_type": "execute_result"
    }
   ],
   "source": [
    "test_data = None\n",
    "test_targets = None\n",
    "data = None\n",
    "targets = None\n",
    "training = None\n",
    "validation = None\n",
    "test = None\n",
    "gc.collect()"
   ]
  },
  {
   "cell_type": "code",
   "execution_count": null,
   "metadata": {},
   "outputs": [],
   "source": [
    "# CONVOLUTIONAL NETWORK"
   ]
  },
  {
   "cell_type": "code",
   "execution_count": 6,
   "metadata": {},
   "outputs": [],
   "source": [
    "# Define a model whose first layer is a mel-spectrogram (from Kapre)\n",
    "from keras.models import Sequential\n",
    "from keras import layers\n",
    "from kapre.time_frequency import Melspectrogram\n",
    "from kapre.utils import Normalization2D\n",
    "from kapre.augmentation import AdditiveNoise"
   ]
  },
  {
   "cell_type": "code",
   "execution_count": 7,
   "metadata": {},
   "outputs": [],
   "source": [
    "# Code inspired by https://github.com/keunwoochoi/kapre\n",
    "input_shape = (1, 88200)\n",
    "sr = 44100\n",
    "\n",
    "model = Sequential()\n",
    "# A mel-spectrogram layer\n",
    "model.add(Melspectrogram(n_dft=512, n_hop=256, input_shape=input_shape,\n",
    "                         padding='same', sr=sr, n_mels=64,\n",
    "                         fmin=0.0, fmax=sr/2, power_melgram=1.0,\n",
    "                         return_decibel_melgram=False, trainable_fb=False,\n",
    "                         trainable_kernel=False,\n",
    "                         name='trainable_stft'))\n",
    "# Add some white noise\n",
    "model.add(AdditiveNoise(power=0.2))\n",
    "# Normalise it per-frequency\n",
    "model.add(Normalization2D(str_axis='batch')) # or 'channel', 'time', 'batch', 'data_sample'\n",
    "# Add convolution layers\n",
    "model.add(layers.Conv2D(16, (3, 3), activation = 'relu'))\n",
    "model.add(layers.Conv2D(16, (3, 3), activation = 'relu'))\n",
    "model.add(layers.MaxPooling2D((3,3)))\n",
    "model.add(layers.Dropout(rate=0.1))\n",
    "\n",
    "model.add(layers.Conv2D(32, (3, 3), activation = 'relu'))\n",
    "model.add(layers.Conv2D(32, (3, 3), activation = 'relu'))\n",
    "model.add(layers.MaxPooling2D((3,3)))\n",
    "model.add(layers.Dropout(rate=0.1))\n",
    "\n",
    "model.add(layers.Conv2D(64, (3, 3), activation = 'relu'))\n",
    "model.add(layers.MaxPooling2D((3,3)))\n",
    "model.add(layers.Dropout(rate=0.1))\n",
    "\n",
    "model.add(layers.Flatten())\n",
    "model.add(layers.Dense(10, activation='softmax'))"
   ]
  },
  {
   "cell_type": "code",
   "execution_count": 8,
   "metadata": {},
   "outputs": [],
   "source": [
    "# Load the training and validation data from hdf5\n",
    "training = h5py.File('/data/music/musicnet/hdf5/training.hdf5', 'r')\n",
    "validation = h5py.File('/data/music/musicnet/hdf5/validation.hdf5', 'r')\n",
    "\n",
    "list(training.keys())\n",
    "training_data = training['data']\n",
    "training_targets = training['targets']\n",
    "\n",
    "list(validation.keys())\n",
    "validation_data = validation['data']\n",
    "validation_targets = validation['targets']"
   ]
  },
  {
   "cell_type": "code",
   "execution_count": 9,
   "metadata": {},
   "outputs": [],
   "source": [
    "# Compile model\n",
    "from keras import optimizers\n",
    "model.compile(optimizer = 'adam',\n",
    "              loss = 'categorical_crossentropy',\n",
    "              metrics=['accuracy'])"
   ]
  },
  {
   "cell_type": "code",
   "execution_count": 10,
   "metadata": {},
   "outputs": [
    {
     "name": "stdout",
     "output_type": "stream",
     "text": [
      "Train on 39420 samples, validate on 9856 samples\n",
      "Epoch 1/100\n",
      "39420/39420 [==============================] - 90s 2ms/step - loss: 1.5424 - acc: 0.5307 - val_loss: 1.5655 - val_acc: 0.5344\n",
      "Epoch 2/100\n",
      "39420/39420 [==============================] - 86s 2ms/step - loss: 1.4032 - acc: 0.5504 - val_loss: 1.4938 - val_acc: 0.5274\n",
      "Epoch 3/100\n",
      "39420/39420 [==============================] - 86s 2ms/step - loss: 1.3207 - acc: 0.5617 - val_loss: 1.4454 - val_acc: 0.5206\n",
      "Epoch 4/100\n",
      "39420/39420 [==============================] - 86s 2ms/step - loss: 1.2713 - acc: 0.5710 - val_loss: 1.4104 - val_acc: 0.5342\n",
      "Epoch 5/100\n",
      "39420/39420 [==============================] - 86s 2ms/step - loss: 1.2361 - acc: 0.5778 - val_loss: 1.3896 - val_acc: 0.5367\n",
      "Epoch 6/100\n",
      "39420/39420 [==============================] - 86s 2ms/step - loss: 1.2047 - acc: 0.5854 - val_loss: 1.3623 - val_acc: 0.5441\n",
      "Epoch 7/100\n",
      "39420/39420 [==============================] - 86s 2ms/step - loss: 1.1769 - acc: 0.5923 - val_loss: 1.3767 - val_acc: 0.5423\n",
      "Epoch 8/100\n",
      "39420/39420 [==============================] - 86s 2ms/step - loss: 1.1569 - acc: 0.5990 - val_loss: 1.3767 - val_acc: 0.5438\n",
      "Epoch 9/100\n",
      "39420/39420 [==============================] - 86s 2ms/step - loss: 1.1367 - acc: 0.6042 - val_loss: 1.3407 - val_acc: 0.5576\n",
      "Epoch 10/100\n",
      "39420/39420 [==============================] - 86s 2ms/step - loss: 1.1187 - acc: 0.6081 - val_loss: 1.3477 - val_acc: 0.5549\n",
      "Epoch 11/100\n",
      "39420/39420 [==============================] - 86s 2ms/step - loss: 1.1013 - acc: 0.6122 - val_loss: 1.3253 - val_acc: 0.5609\n",
      "Epoch 12/100\n",
      "39420/39420 [==============================] - 86s 2ms/step - loss: 1.0856 - acc: 0.6191 - val_loss: 1.3180 - val_acc: 0.5664\n",
      "Epoch 13/100\n",
      "39420/39420 [==============================] - 86s 2ms/step - loss: 1.0738 - acc: 0.6211 - val_loss: 1.3469 - val_acc: 0.5545\n",
      "Epoch 14/100\n",
      "39420/39420 [==============================] - 86s 2ms/step - loss: 1.0601 - acc: 0.6251 - val_loss: 1.3096 - val_acc: 0.5699\n",
      "Epoch 15/100\n",
      "39420/39420 [==============================] - 86s 2ms/step - loss: 1.0505 - acc: 0.6298 - val_loss: 1.2808 - val_acc: 0.5752\n",
      "Epoch 16/100\n",
      "39420/39420 [==============================] - 86s 2ms/step - loss: 1.0371 - acc: 0.6329 - val_loss: 1.3206 - val_acc: 0.5688\n",
      "Epoch 17/100\n",
      "39420/39420 [==============================] - 86s 2ms/step - loss: 1.0271 - acc: 0.6369 - val_loss: 1.2559 - val_acc: 0.5897\n",
      "Epoch 18/100\n",
      "39420/39420 [==============================] - 86s 2ms/step - loss: 1.0133 - acc: 0.6412 - val_loss: 1.2483 - val_acc: 0.5908\n",
      "Epoch 19/100\n",
      "39420/39420 [==============================] - 86s 2ms/step - loss: 1.0108 - acc: 0.6410 - val_loss: 1.2519 - val_acc: 0.5892\n",
      "Epoch 20/100\n",
      "39420/39420 [==============================] - 86s 2ms/step - loss: 1.0032 - acc: 0.6431 - val_loss: 1.2373 - val_acc: 0.6024\n",
      "Epoch 21/100\n",
      "39420/39420 [==============================] - 86s 2ms/step - loss: 0.9997 - acc: 0.6437 - val_loss: 1.2038 - val_acc: 0.6081\n",
      "Epoch 22/100\n",
      "39420/39420 [==============================] - 86s 2ms/step - loss: 0.9889 - acc: 0.6475 - val_loss: 1.2288 - val_acc: 0.6015\n",
      "Epoch 23/100\n",
      "39420/39420 [==============================] - 86s 2ms/step - loss: 0.9833 - acc: 0.6481 - val_loss: 1.1853 - val_acc: 0.6187\n",
      "Epoch 24/100\n",
      "39420/39420 [==============================] - 86s 2ms/step - loss: 0.9794 - acc: 0.6493 - val_loss: 1.1746 - val_acc: 0.6156\n",
      "Epoch 25/100\n",
      "39420/39420 [==============================] - 86s 2ms/step - loss: 0.9696 - acc: 0.6520 - val_loss: 1.1955 - val_acc: 0.6163\n",
      "Epoch 26/100\n",
      "39420/39420 [==============================] - 86s 2ms/step - loss: 0.9641 - acc: 0.6533 - val_loss: 1.1688 - val_acc: 0.6252\n",
      "Epoch 27/100\n",
      "39420/39420 [==============================] - 86s 2ms/step - loss: 0.9571 - acc: 0.6560 - val_loss: 1.1855 - val_acc: 0.6191\n",
      "Epoch 28/100\n",
      "39420/39420 [==============================] - 86s 2ms/step - loss: 0.9562 - acc: 0.6566 - val_loss: 1.1624 - val_acc: 0.6210\n",
      "Epoch 29/100\n",
      "39420/39420 [==============================] - 86s 2ms/step - loss: 0.9497 - acc: 0.6590 - val_loss: 1.1166 - val_acc: 0.6346\n",
      "Epoch 30/100\n",
      "39420/39420 [==============================] - 86s 2ms/step - loss: 0.9448 - acc: 0.6621 - val_loss: 1.1751 - val_acc: 0.6251\n",
      "Epoch 31/100\n",
      "39420/39420 [==============================] - 86s 2ms/step - loss: 0.9460 - acc: 0.6602 - val_loss: 1.1358 - val_acc: 0.6261\n",
      "Epoch 32/100\n",
      "39420/39420 [==============================] - 86s 2ms/step - loss: 0.9390 - acc: 0.6626 - val_loss: 1.1502 - val_acc: 0.6296\n",
      "Epoch 33/100\n",
      "39420/39420 [==============================] - 86s 2ms/step - loss: 0.9375 - acc: 0.6636 - val_loss: 1.1107 - val_acc: 0.6423\n",
      "Epoch 34/100\n",
      "39420/39420 [==============================] - 86s 2ms/step - loss: 0.9319 - acc: 0.6648 - val_loss: 1.1298 - val_acc: 0.6349\n",
      "Epoch 35/100\n",
      "39420/39420 [==============================] - 86s 2ms/step - loss: 0.9320 - acc: 0.6658 - val_loss: 1.1450 - val_acc: 0.6316\n",
      "Epoch 36/100\n",
      "39420/39420 [==============================] - 86s 2ms/step - loss: 0.9254 - acc: 0.6664 - val_loss: 1.1390 - val_acc: 0.6364\n",
      "Epoch 37/100\n",
      "39420/39420 [==============================] - 86s 2ms/step - loss: 0.9163 - acc: 0.6702 - val_loss: 1.1092 - val_acc: 0.6451\n",
      "Epoch 38/100\n",
      "39420/39420 [==============================] - 86s 2ms/step - loss: 0.9156 - acc: 0.6700 - val_loss: 1.1095 - val_acc: 0.6413\n",
      "Epoch 39/100\n",
      "39420/39420 [==============================] - 86s 2ms/step - loss: 0.9042 - acc: 0.6738 - val_loss: 1.1272 - val_acc: 0.6363\n",
      "Epoch 40/100\n",
      "39420/39420 [==============================] - 86s 2ms/step - loss: 0.9105 - acc: 0.6710 - val_loss: 1.1764 - val_acc: 0.6304\n",
      "Epoch 41/100\n",
      "39420/39420 [==============================] - 86s 2ms/step - loss: 0.9055 - acc: 0.6724 - val_loss: 1.1078 - val_acc: 0.6466\n",
      "Epoch 42/100\n",
      "39420/39420 [==============================] - 86s 2ms/step - loss: 0.9029 - acc: 0.6739 - val_loss: 1.1169 - val_acc: 0.6414\n",
      "Epoch 43/100\n",
      "39420/39420 [==============================] - 86s 2ms/step - loss: 0.9008 - acc: 0.6752 - val_loss: 1.1088 - val_acc: 0.6464\n",
      "Epoch 44/100\n",
      "39420/39420 [==============================] - 86s 2ms/step - loss: 0.8975 - acc: 0.6736 - val_loss: 1.0639 - val_acc: 0.6531\n",
      "Epoch 45/100\n",
      "39420/39420 [==============================] - 86s 2ms/step - loss: 0.8947 - acc: 0.6781 - val_loss: 1.0972 - val_acc: 0.6492\n",
      "Epoch 46/100\n",
      "39420/39420 [==============================] - 86s 2ms/step - loss: 0.8990 - acc: 0.6775 - val_loss: 1.0585 - val_acc: 0.6523\n",
      "Epoch 47/100\n",
      "39420/39420 [==============================] - 86s 2ms/step - loss: 0.8852 - acc: 0.6806 - val_loss: 1.0518 - val_acc: 0.6603\n",
      "Epoch 48/100\n",
      "39420/39420 [==============================] - 86s 2ms/step - loss: 0.8922 - acc: 0.6790 - val_loss: 1.0633 - val_acc: 0.6588\n",
      "Epoch 49/100\n",
      "39420/39420 [==============================] - 86s 2ms/step - loss: 0.8831 - acc: 0.6809 - val_loss: 1.0510 - val_acc: 0.6599\n",
      "Epoch 50/100\n",
      "39420/39420 [==============================] - 86s 2ms/step - loss: 0.8888 - acc: 0.6776 - val_loss: 1.0611 - val_acc: 0.6564\n",
      "Epoch 51/100\n",
      "39420/39420 [==============================] - 86s 2ms/step - loss: 0.8792 - acc: 0.6830 - val_loss: 1.0745 - val_acc: 0.6476\n",
      "Epoch 52/100\n",
      "39420/39420 [==============================] - 86s 2ms/step - loss: 0.8852 - acc: 0.6791 - val_loss: 1.0045 - val_acc: 0.6677\n",
      "Epoch 53/100\n",
      "39420/39420 [==============================] - 86s 2ms/step - loss: 0.8749 - acc: 0.6840 - val_loss: 1.1005 - val_acc: 0.6519\n",
      "Epoch 54/100\n",
      "39420/39420 [==============================] - 86s 2ms/step - loss: 0.8756 - acc: 0.6819 - val_loss: 1.1191 - val_acc: 0.6510\n",
      "Epoch 55/100\n",
      "39420/39420 [==============================] - 86s 2ms/step - loss: 0.8749 - acc: 0.6848 - val_loss: 1.0210 - val_acc: 0.6651\n",
      "Epoch 56/100\n",
      "39420/39420 [==============================] - 86s 2ms/step - loss: 0.8757 - acc: 0.6852 - val_loss: 1.0478 - val_acc: 0.6631\n",
      "Epoch 57/100\n",
      "39420/39420 [==============================] - 86s 2ms/step - loss: 0.8699 - acc: 0.6853 - val_loss: 1.0585 - val_acc: 0.6601\n",
      "Epoch 58/100\n",
      "39420/39420 [==============================] - 86s 2ms/step - loss: 0.8691 - acc: 0.6866 - val_loss: 1.0139 - val_acc: 0.6689\n",
      "Epoch 59/100\n"
     ]
    },
    {
     "name": "stdout",
     "output_type": "stream",
     "text": [
      "39420/39420 [==============================] - 86s 2ms/step - loss: 0.8732 - acc: 0.6844 - val_loss: 1.0196 - val_acc: 0.6679\n",
      "Epoch 60/100\n",
      "39420/39420 [==============================] - 86s 2ms/step - loss: 0.8665 - acc: 0.6884 - val_loss: 1.0277 - val_acc: 0.6694\n",
      "Epoch 61/100\n",
      "39420/39420 [==============================] - 86s 2ms/step - loss: 0.8353 - acc: 0.6966 - val_loss: 1.0199 - val_acc: 0.6686\n",
      "Epoch 62/100\n",
      "39420/39420 [==============================] - 86s 2ms/step - loss: 0.8297 - acc: 0.6991 - val_loss: 1.0178 - val_acc: 0.6681\n",
      "Epoch 63/100\n",
      "39420/39420 [==============================] - 86s 2ms/step - loss: 0.8257 - acc: 0.7024 - val_loss: 1.0160 - val_acc: 0.6676\n",
      "Epoch 64/100\n",
      "39420/39420 [==============================] - 86s 2ms/step - loss: 0.8247 - acc: 0.7001 - val_loss: 1.0232 - val_acc: 0.6687\n",
      "Epoch 65/100\n",
      "39420/39420 [==============================] - 86s 2ms/step - loss: 0.8187 - acc: 0.7033 - val_loss: 1.0271 - val_acc: 0.6669\n",
      "Epoch 66/100\n",
      "39420/39420 [==============================] - 86s 2ms/step - loss: 0.8270 - acc: 0.7004 - val_loss: 1.0301 - val_acc: 0.6678\n",
      "Epoch 67/100\n",
      "39420/39420 [==============================] - 86s 2ms/step - loss: 0.8212 - acc: 0.7018 - val_loss: 1.0159 - val_acc: 0.6689\n",
      "Epoch 68/100\n",
      "39420/39420 [==============================] - 86s 2ms/step - loss: 0.8240 - acc: 0.7017 - val_loss: 1.0318 - val_acc: 0.6687\n",
      "Epoch 69/100\n",
      "39420/39420 [==============================] - 86s 2ms/step - loss: 0.8159 - acc: 0.7033 - val_loss: 1.0253 - val_acc: 0.6714\n",
      "Epoch 70/100\n",
      "39420/39420 [==============================] - 86s 2ms/step - loss: 0.8144 - acc: 0.7026 - val_loss: 1.0230 - val_acc: 0.6731\n",
      "Epoch 71/100\n",
      "39420/39420 [==============================] - 86s 2ms/step - loss: 0.8189 - acc: 0.7024 - val_loss: 1.0244 - val_acc: 0.6730\n",
      "Epoch 72/100\n",
      "39420/39420 [==============================] - 86s 2ms/step - loss: 0.8098 - acc: 0.7053 - val_loss: 1.0264 - val_acc: 0.6726\n",
      "Epoch 73/100\n",
      "39420/39420 [==============================] - 86s 2ms/step - loss: 0.8147 - acc: 0.7039 - val_loss: 1.0257 - val_acc: 0.6724\n",
      "Epoch 74/100\n",
      "39420/39420 [==============================] - 86s 2ms/step - loss: 0.8146 - acc: 0.7061 - val_loss: 1.0251 - val_acc: 0.6722\n",
      "Epoch 75/100\n",
      "39420/39420 [==============================] - 86s 2ms/step - loss: 0.8158 - acc: 0.7041 - val_loss: 1.0217 - val_acc: 0.6741\n",
      "Epoch 76/100\n",
      "39420/39420 [==============================] - 86s 2ms/step - loss: 0.8154 - acc: 0.7031 - val_loss: 1.0226 - val_acc: 0.6734\n",
      "Epoch 77/100\n",
      "39420/39420 [==============================] - 86s 2ms/step - loss: 0.8126 - acc: 0.7049 - val_loss: 1.0232 - val_acc: 0.6733\n",
      "Epoch 78/100\n",
      "39420/39420 [==============================] - 86s 2ms/step - loss: 0.8180 - acc: 0.7016 - val_loss: 1.0230 - val_acc: 0.6737\n",
      "Epoch 79/100\n",
      "39420/39420 [==============================] - 86s 2ms/step - loss: 0.8134 - acc: 0.7045 - val_loss: 1.0231 - val_acc: 0.6732\n",
      "Epoch 80/100\n",
      "39420/39420 [==============================] - 86s 2ms/step - loss: 0.8141 - acc: 0.7029 - val_loss: 1.0232 - val_acc: 0.6732\n",
      "Epoch 81/100\n",
      "39420/39420 [==============================] - 86s 2ms/step - loss: 0.8098 - acc: 0.7072 - val_loss: 1.0232 - val_acc: 0.6729\n",
      "Epoch 82/100\n",
      "39420/39420 [==============================] - 86s 2ms/step - loss: 0.8190 - acc: 0.7000 - val_loss: 1.0233 - val_acc: 0.6731\n",
      "Epoch 83/100\n",
      "39420/39420 [==============================] - 86s 2ms/step - loss: 0.8144 - acc: 0.7049 - val_loss: 1.0234 - val_acc: 0.6728\n",
      "Epoch 84/100\n",
      "39420/39420 [==============================] - 86s 2ms/step - loss: 0.8144 - acc: 0.7037 - val_loss: 1.0235 - val_acc: 0.6729\n",
      "Epoch 85/100\n",
      "39420/39420 [==============================] - 86s 2ms/step - loss: 0.8116 - acc: 0.7043 - val_loss: 1.0235 - val_acc: 0.6729\n",
      "Epoch 86/100\n",
      "39420/39420 [==============================] - 86s 2ms/step - loss: 0.8145 - acc: 0.7042 - val_loss: 1.0236 - val_acc: 0.6728\n",
      "Epoch 87/100\n",
      "39420/39420 [==============================] - 86s 2ms/step - loss: 0.8153 - acc: 0.7029 - val_loss: 1.0236 - val_acc: 0.6727\n",
      "Epoch 88/100\n",
      "39420/39420 [==============================] - 86s 2ms/step - loss: 0.8144 - acc: 0.7038 - val_loss: 1.0236 - val_acc: 0.6728\n",
      "Epoch 89/100\n",
      "39420/39420 [==============================] - 86s 2ms/step - loss: 0.8109 - acc: 0.7062 - val_loss: 1.0237 - val_acc: 0.6727\n",
      "Epoch 90/100\n",
      "39420/39420 [==============================] - 86s 2ms/step - loss: 0.8169 - acc: 0.7033 - val_loss: 1.0237 - val_acc: 0.6728\n",
      "Epoch 91/100\n",
      "39420/39420 [==============================] - 86s 2ms/step - loss: 0.8184 - acc: 0.7030 - val_loss: 1.0237 - val_acc: 0.6725\n",
      "Epoch 92/100\n",
      "39420/39420 [==============================] - 86s 2ms/step - loss: 0.8127 - acc: 0.7051 - val_loss: 1.0238 - val_acc: 0.6725\n",
      "Epoch 93/100\n",
      "39420/39420 [==============================] - 86s 2ms/step - loss: 0.8123 - acc: 0.7051 - val_loss: 1.0238 - val_acc: 0.6725\n",
      "Epoch 94/100\n",
      "39420/39420 [==============================] - 86s 2ms/step - loss: 0.8126 - acc: 0.7074 - val_loss: 1.0238 - val_acc: 0.6725\n",
      "Epoch 95/100\n",
      "39420/39420 [==============================] - 86s 2ms/step - loss: 0.8126 - acc: 0.7045 - val_loss: 1.0238 - val_acc: 0.6725\n",
      "Epoch 96/100\n",
      "39420/39420 [==============================] - 86s 2ms/step - loss: 0.8130 - acc: 0.7053 - val_loss: 1.0238 - val_acc: 0.6726\n",
      "Epoch 97/100\n",
      "39420/39420 [==============================] - 86s 2ms/step - loss: 0.8114 - acc: 0.7071 - val_loss: 1.0238 - val_acc: 0.6726\n",
      "Epoch 98/100\n",
      "39420/39420 [==============================] - 86s 2ms/step - loss: 0.8139 - acc: 0.7047 - val_loss: 1.0238 - val_acc: 0.6726\n",
      "Epoch 99/100\n",
      "39420/39420 [==============================] - 86s 2ms/step - loss: 0.8139 - acc: 0.7045 - val_loss: 1.0238 - val_acc: 0.6726\n",
      "Epoch 100/100\n",
      "39420/39420 [==============================] - 86s 2ms/step - loss: 0.8128 - acc: 0.7057 - val_loss: 1.0238 - val_acc: 0.6726\n"
     ]
    }
   ],
   "source": [
    "file_path=\"/home/ubuntu/code/trained_model/music/music-weights-improvement-{epoch:02d}-{val_loss:.4f}-{val_acc:.2f}.hdf5\"\n",
    "tensorboard_path = \"/home/ubuntu/code/tensorboard/\"\n",
    "\n",
    "callbacks_list = [\n",
    "        #keras.callbacks.EarlyStopping(monitor='acc', patience=2,),\n",
    "        keras.callbacks.ModelCheckpoint(filepath=file_path, monitor='val_loss', save_best_only=True,),\n",
    "        keras.callbacks.ReduceLROnPlateau(monitor='val_loss', factor=0.1, patience=8,),\n",
    "        keras.callbacks.TensorBoard(log_dir=tensorboard_path, batch_size=32,)]\n",
    "\n",
    "history = model.fit(training_data, \n",
    "                    training_targets,\n",
    "                    epochs = 100,\n",
    "                    batch_size = 150,\n",
    "                    callbacks=callbacks_list,\n",
    "                    validation_data=(validation_data, validation_targets),\n",
    "                    shuffle=False)"
   ]
  },
  {
   "cell_type": "code",
   "execution_count": 11,
   "metadata": {},
   "outputs": [
    {
     "data": {
      "image/png": "[encoded data removed]",
      "text/plain": [
       "<Figure size 432x288 with 1 Axes>"
      ]
     },
     "metadata": {},
     "output_type": "display_data"
    }
   ],
   "source": [
    "import matplotlib.pyplot as plt\n",
    "import matplotlib.gridspec as gridspec\n",
    "\n",
    "# Total Loss\n",
    "loss = history.history['loss']\n",
    "val_loss = history.history['val_loss']\n",
    "epochs = range(1, len(loss) + 1)\n",
    "plt.plot(epochs, loss, 'bo', label='Training loss')\n",
    "plt.plot(epochs, val_loss, 'b', label='Validation loss')\n",
    "plt.title('Joint - Training and validation loss')\n",
    "plt.xlabel('Epochs')\n",
    "plt.ylabel('Loss')\n",
    "plt.legend()\n",
    "plt.show()"
   ]
  },
  {
   "cell_type": "code",
   "execution_count": 12,
   "metadata": {},
   "outputs": [
    {
     "data": {
      "image/png": "[encoded data removed]",
      "text/plain": [
       "<Figure size 432x288 with 1 Axes>"
      ]
     },
     "metadata": {},
     "output_type": "display_data"
    }
   ],
   "source": [
    "acc = history.history['acc']\n",
    "val_acc = history.history['val_acc']\n",
    "epochs = range(1, len(loss) + 1)\n",
    "plt.subplots(1)\n",
    "plt.plot(epochs, acc, 'bo', label='Training accuracy')\n",
    "plt.plot(epochs, val_acc, 'b', label='Validation accuracy')\n",
    "plt.title('Gender - Training and validation accuracy')\n",
    "plt.xlabel('Epochs')\n",
    "plt.ylabel('Loss')\n",
    "plt.legend()\n",
    "plt.show()"
   ]
  },
  {
   "cell_type": "code",
   "execution_count": 13,
   "metadata": {},
   "outputs": [],
   "source": [
    "# Do test predictions and compare performance with baseline\n",
    "test = h5py.File('/data/music/musicnet/hdf5/test.hdf5', 'r')\n",
    "\n",
    "list(test.keys())\n",
    "test_data = test['data']\n",
    "test_targets = test['targets']"
   ]
  },
  {
   "cell_type": "code",
   "execution_count": 14,
   "metadata": {},
   "outputs": [],
   "source": [
    "test_predictions = model.predict(test_data)"
   ]
  },
  {
   "cell_type": "code",
   "execution_count": 15,
   "metadata": {},
   "outputs": [],
   "source": [
    "test_predicted_labels = np.argmax(test_predictions, axis=1)\n",
    "test_target_labels = np.argmax(test_targets, axis=1)"
   ]
  },
  {
   "cell_type": "code",
   "execution_count": 16,
   "metadata": {
    "scrolled": true
   },
   "outputs": [
    {
     "name": "stdout",
     "output_type": "stream",
     "text": [
      "Accuracy  0.6607142857142857\n",
      "             precision    recall  f1-score   support\n",
      "\n",
      "          0       0.72      0.79      0.76      1144\n",
      "          1       0.67      0.89      0.77      6404\n",
      "          2       0.62      0.35      0.45      1169\n",
      "          3       0.69      0.50      0.58       274\n",
      "          4       0.54      0.31      0.40       334\n",
      "          5       0.66      0.50      0.57       211\n",
      "          6       0.38      0.03      0.06       100\n",
      "          7       0.48      0.32      0.39       961\n",
      "          8       0.56      0.03      0.05       174\n",
      "          9       0.63      0.28      0.38      1549\n",
      "\n",
      "avg / total       0.64      0.66      0.63     12320\n",
      "\n"
     ]
    }
   ],
   "source": [
    "from sklearn.metrics import accuracy_score, roc_auc_score, classification_report\n",
    "print('Accuracy ', accuracy_score(test_target_labels, test_predicted_labels))\n",
    "print(classification_report(test_target_labels, test_predicted_labels))"
   ]
  },
  {
   "cell_type": "code",
   "execution_count": 17,
   "metadata": {},
   "outputs": [],
   "source": [
    "# Compare with baseline classifier (in this case we pick the most popular class)\n",
    "most_popular = np.argmax(np.bincount(test_target_labels))"
   ]
  },
  {
   "cell_type": "code",
   "execution_count": 18,
   "metadata": {},
   "outputs": [],
   "source": [
    "baseline_prediction = np.repeat(most_popular, test_target_labels.shape[0])"
   ]
  },
  {
   "cell_type": "code",
   "execution_count": 19,
   "metadata": {},
   "outputs": [
    {
     "name": "stdout",
     "output_type": "stream",
     "text": [
      "Accuracy  0.5198051948051948\n",
      "             precision    recall  f1-score   support\n",
      "\n",
      "          0       0.00      0.00      0.00      1144\n",
      "          1       0.52      1.00      0.68      6404\n",
      "          2       0.00      0.00      0.00      1169\n",
      "          3       0.00      0.00      0.00       274\n",
      "          4       0.00      0.00      0.00       334\n",
      "          5       0.00      0.00      0.00       211\n",
      "          6       0.00      0.00      0.00       100\n",
      "          7       0.00      0.00      0.00       961\n",
      "          8       0.00      0.00      0.00       174\n",
      "          9       0.00      0.00      0.00      1549\n",
      "\n",
      "avg / total       0.27      0.52      0.36     12320\n",
      "\n"
     ]
    },
    {
     "name": "stderr",
     "output_type": "stream",
     "text": [
      "/home/ubuntu/anaconda3/envs/tensorflow_p36/lib/python3.6/site-packages/sklearn/metrics/classification.py:1135: UndefinedMetricWarning: Precision and F-score are ill-defined and being set to 0.0 in labels with no predicted samples.\n",
      "  'precision', 'predicted', average, warn_for)\n"
     ]
    }
   ],
   "source": [
    "print('Accuracy ', accuracy_score(test_target_labels, baseline_prediction))\n",
    "print(classification_report(test_target_labels, baseline_prediction))"
   ]
  },
  {
   "cell_type": "code",
   "execution_count": 20,
   "metadata": {},
   "outputs": [],
   "source": [
    "# Compare with baseline classifier (predicting randomly based on popularity of each class)\n",
    "unique, counts = np.unique(test_target_labels, return_counts=True)\n",
    "props = counts / sum(counts)\n",
    "random_predictions = np.random.choice(10, test_target_labels.shape[0], props.any())"
   ]
  },
  {
   "cell_type": "code",
   "execution_count": 21,
   "metadata": {},
   "outputs": [
    {
     "name": "stdout",
     "output_type": "stream",
     "text": [
      "Accuracy  0.09545454545454546\n",
      "             precision    recall  f1-score   support\n",
      "\n",
      "          0       0.07      0.08      0.08      1144\n",
      "          1       0.49      0.09      0.16      6404\n",
      "          2       0.10      0.11      0.10      1169\n",
      "          3       0.03      0.11      0.04       274\n",
      "          4       0.03      0.09      0.04       334\n",
      "          5       0.01      0.08      0.02       211\n",
      "          6       0.01      0.10      0.02       100\n",
      "          7       0.06      0.08      0.07       961\n",
      "          8       0.02      0.11      0.03       174\n",
      "          9       0.13      0.11      0.12      1549\n",
      "\n",
      "avg / total       0.29      0.10      0.12     12320\n",
      "\n"
     ]
    }
   ],
   "source": [
    "print('Accuracy ', accuracy_score(test_target_labels, random_predictions))\n",
    "print(classification_report(test_target_labels, random_predictions))"
   ]
  },
  {
   "cell_type": "code",
   "execution_count": null,
   "metadata": {},
   "outputs": [],
   "source": []
  }
 ],
 "metadata": {
  "kernelspec": {
   "display_name": "Python [conda env:tensorflow_p36]",
   "language": "python",
   "name": "conda-env-tensorflow_p36-py"
  },
  "language_info": {
   "codemirror_mode": {
    "name": "ipython",
    "version": 3
   },
   "file_extension": ".py",
   "mimetype": "text/x-python",
   "name": "python",
   "nbconvert_exporter": "python",
   "pygments_lexer": "ipython3",
   "version": "3.6.5"
  }
 },
 "nbformat": 4,
 "nbformat_minor": 2
}
