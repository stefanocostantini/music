{
 "cells": [
  {
   "cell_type": "code",
   "execution_count": 1,
   "metadata": {},
   "outputs": [
    {
     "name": "stderr",
     "output_type": "stream",
     "text": [
      "Using TensorFlow backend.\n"
     ]
    }
   ],
   "source": [
    "%matplotlib inline\n",
    "import numpy as np\n",
    "import pandas as pd\n",
    "import kapre\n",
    "import keras\n",
    "import os\n",
    "import soundfile as sf\n",
    "import time\n",
    "import progressbar\n",
    "import gc\n",
    "import h5py"
   ]
  },
  {
   "cell_type": "code",
   "execution_count": 2,
   "metadata": {},
   "outputs": [],
   "source": [
    "# Load the training and validation data from hdf5\n",
    "training = h5py.File('/data/musicnet/hdf5/train_data.hdf5', 'r')\n",
    "validation = h5py.File('/data/musicnet/hdf5/val_data.hdf5', 'r')\n",
    "\n",
    "list(training.keys())\n",
    "training_data = training['data']\n",
    "training_targets = training['targets']\n",
    "\n",
    "list(validation.keys())\n",
    "validation_data = validation['data']\n",
    "validation_targets = validation['targets']"
   ]
  },
  {
   "cell_type": "code",
   "execution_count": null,
   "metadata": {},
   "outputs": [],
   "source": [
    "# LSTM AUTOENCODER"
   ]
  },
  {
   "cell_type": "code",
   "execution_count": 3,
   "metadata": {},
   "outputs": [
    {
     "name": "stdout",
     "output_type": "stream",
     "text": [
      "(39472, 88200, 1)\n",
      "(8089, 88200, 1)\n"
     ]
    }
   ],
   "source": [
    "# Reshaping the data into sequences\n",
    "# The shape needs to be (number of sample, number of timesteps, number of features)\n",
    "# In this case we have a sequence of frequencies, i.e. just one feature, with 88200 (sampling rate of 44100 per\n",
    "# second over 2 second chunks)\n",
    "train_data = training_data.value.reshape(training_data.shape[0],88200,1)\n",
    "val_data = validation_data.value.reshape(validation_data.shape[0],88200,1)\n",
    "print(train_data.shape)\n",
    "print(val_data.shape)"
   ]
  },
  {
   "cell_type": "code",
   "execution_count": 29,
   "metadata": {},
   "outputs": [],
   "source": [
    "# Defining the model\n",
    "from keras.layers import Input, LSTM, RepeatVector\n",
    "from keras.models import Model\n",
    "\n",
    "inputs = Input(shape=(88200, 1))\n",
    "encoded = LSTM(128)(inputs)\n",
    "\n",
    "decoded = RepeatVector(88200)(encoded)\n",
    "decoded = LSTM(1, return_sequences=True)(decoded)\n",
    "\n",
    "sequence_autoencoder = Model(inputs, decoded)\n",
    "encoder = Model(inputs, encoded)"
   ]
  },
  {
   "cell_type": "code",
   "execution_count": 30,
   "metadata": {},
   "outputs": [],
   "source": [
    "sequence_autoencoder.compile(loss='mean_squared_error', optimizer='adam')  # original"
   ]
  },
  {
   "cell_type": "code",
   "execution_count": 32,
   "metadata": {},
   "outputs": [
    {
     "name": "stdout",
     "output_type": "stream",
     "text": [
      "Epoch 1/1\n",
      "20/20 [==============================] - 267s 13s/step - loss: 0.0052\n"
     ]
    },
    {
     "data": {
      "text/plain": [
       "<keras.callbacks.History at 0x7f0666981588>"
      ]
     },
     "execution_count": 32,
     "metadata": {},
     "output_type": "execute_result"
    }
   ],
   "source": [
    "sequence_autoencoder.fit(train_data[:20], train_data[:20],\n",
    "                     epochs=1,\n",
    "                     batch_size=10,\n",
    "                     shuffle=True,\n",
    "                     )"
   ]
  },
  {
   "cell_type": "code",
   "execution_count": null,
   "metadata": {},
   "outputs": [],
   "source": []
  },
  {
   "cell_type": "code",
   "execution_count": null,
   "metadata": {},
   "outputs": [],
   "source": []
  }
 ],
 "metadata": {
  "kernelspec": {
   "display_name": "Python [conda env:tensorflow_p36]",
   "language": "python",
   "name": "conda-env-tensorflow_p36-py"
  },
  "language_info": {
   "codemirror_mode": {
    "name": "ipython",
    "version": 3
   },
   "file_extension": ".py",
   "mimetype": "text/x-python",
   "name": "python",
   "nbconvert_exporter": "python",
   "pygments_lexer": "ipython3",
   "version": "3.6.5"
  }
 },
 "nbformat": 4,
 "nbformat_minor": 2
}
