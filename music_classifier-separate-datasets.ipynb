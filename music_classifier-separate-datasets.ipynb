{
 "cells": [
  {
   "cell_type": "code",
   "execution_count": 1,
   "metadata": {},
   "outputs": [
    {
     "name": "stderr",
     "output_type": "stream",
     "text": [
      "Using TensorFlow backend.\n"
     ]
    }
   ],
   "source": [
    "%matplotlib inline\n",
    "import numpy as np\n",
    "import pandas as pd\n",
    "import kapre\n",
    "import keras\n",
    "import os\n",
    "import soundfile as sf\n",
    "import time\n",
    "import progressbar\n",
    "import gc\n",
    "import h5py"
   ]
  },
  {
   "cell_type": "code",
   "execution_count": 2,
   "metadata": {},
   "outputs": [],
   "source": [
    "# Load metadata to extract labels\n",
    "metadata = pd.read_csv('/data/musicnet/metadata.csv')"
   ]
  },
  {
   "cell_type": "code",
   "execution_count": 3,
   "metadata": {},
   "outputs": [
    {
     "data": {
      "text/html": [
       "<div>\n",
       "<style scoped>\n",
       "    .dataframe tbody tr th:only-of-type {\n",
       "        vertical-align: middle;\n",
       "    }\n",
       "\n",
       "    .dataframe tbody tr th {\n",
       "        vertical-align: top;\n",
       "    }\n",
       "\n",
       "    .dataframe thead th {\n",
       "        text-align: right;\n",
       "    }\n",
       "</style>\n",
       "<table border=\"1\" class=\"dataframe\">\n",
       "  <thead>\n",
       "    <tr style=\"text-align: right;\">\n",
       "      <th></th>\n",
       "      <th>id</th>\n",
       "      <th>composer</th>\n",
       "      <th>composition</th>\n",
       "      <th>movement</th>\n",
       "      <th>ensemble</th>\n",
       "      <th>source</th>\n",
       "      <th>transcriber</th>\n",
       "      <th>catalog_name</th>\n",
       "      <th>seconds</th>\n",
       "    </tr>\n",
       "  </thead>\n",
       "  <tbody>\n",
       "    <tr>\n",
       "      <th>0</th>\n",
       "      <td>1727</td>\n",
       "      <td>Schubert</td>\n",
       "      <td>Piano Quintet in A major</td>\n",
       "      <td>2. Andante</td>\n",
       "      <td>Piano Quintet</td>\n",
       "      <td>European Archive</td>\n",
       "      <td>http://tirolmusic.blogspot.com/</td>\n",
       "      <td>OP114</td>\n",
       "      <td>447</td>\n",
       "    </tr>\n",
       "    <tr>\n",
       "      <th>1</th>\n",
       "      <td>1728</td>\n",
       "      <td>Schubert</td>\n",
       "      <td>Piano Quintet in A major</td>\n",
       "      <td>3. Scherzo: Presto</td>\n",
       "      <td>Piano Quintet</td>\n",
       "      <td>European Archive</td>\n",
       "      <td>http://tirolmusic.blogspot.com/</td>\n",
       "      <td>OP114</td>\n",
       "      <td>251</td>\n",
       "    </tr>\n",
       "    <tr>\n",
       "      <th>2</th>\n",
       "      <td>1729</td>\n",
       "      <td>Schubert</td>\n",
       "      <td>Piano Quintet in A major</td>\n",
       "      <td>4. Andantino - Allegretto</td>\n",
       "      <td>Piano Quintet</td>\n",
       "      <td>European Archive</td>\n",
       "      <td>http://tirolmusic.blogspot.com/</td>\n",
       "      <td>OP114</td>\n",
       "      <td>444</td>\n",
       "    </tr>\n",
       "    <tr>\n",
       "      <th>3</th>\n",
       "      <td>1730</td>\n",
       "      <td>Schubert</td>\n",
       "      <td>Piano Quintet in A major</td>\n",
       "      <td>5. Allegro giusto</td>\n",
       "      <td>Piano Quintet</td>\n",
       "      <td>European Archive</td>\n",
       "      <td>http://tirolmusic.blogspot.com/</td>\n",
       "      <td>OP114</td>\n",
       "      <td>368</td>\n",
       "    </tr>\n",
       "    <tr>\n",
       "      <th>4</th>\n",
       "      <td>1733</td>\n",
       "      <td>Schubert</td>\n",
       "      <td>Piano Sonata in A major</td>\n",
       "      <td>2. Andantino</td>\n",
       "      <td>Solo Piano</td>\n",
       "      <td>Museopen</td>\n",
       "      <td>Segundo G. Yogore</td>\n",
       "      <td>D959</td>\n",
       "      <td>546</td>\n",
       "    </tr>\n",
       "  </tbody>\n",
       "</table>\n",
       "</div>"
      ],
      "text/plain": [
       "     id  composer               composition                   movement  \\\n",
       "0  1727  Schubert  Piano Quintet in A major                 2. Andante   \n",
       "1  1728  Schubert  Piano Quintet in A major         3. Scherzo: Presto   \n",
       "2  1729  Schubert  Piano Quintet in A major  4. Andantino - Allegretto   \n",
       "3  1730  Schubert  Piano Quintet in A major          5. Allegro giusto   \n",
       "4  1733  Schubert   Piano Sonata in A major               2. Andantino   \n",
       "\n",
       "        ensemble            source                      transcriber  \\\n",
       "0  Piano Quintet  European Archive  http://tirolmusic.blogspot.com/   \n",
       "1  Piano Quintet  European Archive  http://tirolmusic.blogspot.com/   \n",
       "2  Piano Quintet  European Archive  http://tirolmusic.blogspot.com/   \n",
       "3  Piano Quintet  European Archive  http://tirolmusic.blogspot.com/   \n",
       "4     Solo Piano          Museopen                Segundo G. Yogore   \n",
       "\n",
       "  catalog_name  seconds  \n",
       "0        OP114      447  \n",
       "1        OP114      251  \n",
       "2        OP114      444  \n",
       "3        OP114      368  \n",
       "4         D959      546  "
      ]
     },
     "execution_count": 3,
     "metadata": {},
     "output_type": "execute_result"
    }
   ],
   "source": [
    "metadata.head()"
   ]
  },
  {
   "cell_type": "code",
   "execution_count": 4,
   "metadata": {},
   "outputs": [
    {
     "data": {
      "text/plain": [
       "['Schubert', 'Bach', 'Beethoven']"
      ]
     },
     "execution_count": 4,
     "metadata": {},
     "output_type": "execute_result"
    }
   ],
   "source": [
    "# Construct a dictionary id --> composer, which will be used later to set the labels for all sound snippets\n",
    "composers = pd.Series(metadata.composer.values,index=metadata.id).to_dict()\n",
    "examples = [1755, 2211, 2368]\n",
    "[composers.get(example) for example in examples]"
   ]
  },
  {
   "cell_type": "code",
   "execution_count": 5,
   "metadata": {},
   "outputs": [],
   "source": [
    "# Creating dataset\n",
    "# First we define a function to load the audio snippets and to create the labels\n",
    "def load_audio(path, downsampling_rate, duration_sec, composers):\n",
    "        '''Requires the soundfile package, imported as sf '''\n",
    "        files = os.listdir(path)\n",
    "        message = \"Processing {0} audio files...\".format(len(files))\n",
    "        print(message)\n",
    "        message = \"Downsampling dataset to {0}% (equivalent to {1} audio files).\".format(downsampling_rate*100, int(downsampling_rate * len(files)) )\n",
    "        print(message)\n",
    "        \n",
    "        ds = np.random.choice(files, int(len(files) * downsampling_rate), replace=False)\n",
    "        \n",
    "        # Initialise empty arrays\n",
    "        data = np.zeros((len(ds), 1, 88200))\n",
    "        labels = np.zeros(len(ds), dtype = \"<U10\")\n",
    "        \n",
    "        with progressbar.ProgressBar(max_value=len(ds)) as bar:\n",
    "            \n",
    "            for i, file in enumerate(ds):\n",
    "                # load and process file, then add to array\n",
    "                audio_clip, sr = sf.read(path + file)\n",
    "                audio_clip = audio_clip[:int(sr*duration_sec)]\n",
    "                audio_clip = audio_clip[np.newaxis, :]\n",
    "                data[i, :audio_clip.shape[0],:audio_clip.shape[1]] = audio_clip\n",
    "                audio_clip = None\n",
    "            \n",
    "                # look up label and add to array\n",
    "                file_id = file.split(\"-\")[0]\n",
    "                label = composers[int(file_id)]\n",
    "                labels[i] = label \n",
    "                label = None\n",
    "                bar.update(i)\n",
    "            \n",
    "        return labels, data\n",
    "        "
   ]
  },
  {
   "cell_type": "code",
   "execution_count": null,
   "metadata": {},
   "outputs": [],
   "source": [
    "# CREATE TRAINING DATASET\n",
    "training_labels, training_data = load_audio(\"/data/musicnet/train_chunks/\", 1, 2, composers)"
   ]
  },
  {
   "cell_type": "code",
   "execution_count": null,
   "metadata": {},
   "outputs": [],
   "source": [
    "# Turn labels to categorical (one-hot encoding)\n",
    "training_labels_pd = pd.DataFrame(training_labels)\n",
    "training_onehot = pd.get_dummies(training_labels_pd)\n",
    "training_targets = training_onehot.as_matrix()\n",
    "training_targets.shape"
   ]
  },
  {
   "cell_type": "code",
   "execution_count": null,
   "metadata": {},
   "outputs": [],
   "source": [
    "# Store datasets as hdf5 files\n",
    "train_data = h5py.File('/data/musicnet/hdf5/train_data.hdf5', 'w')\n",
    "train_data.create_dataset('data', data=training_data)\n",
    "train_data.create_dataset('targets', data=training_targets)\n",
    "train_data.close()"
   ]
  },
  {
   "cell_type": "code",
   "execution_count": null,
   "metadata": {},
   "outputs": [],
   "source": [
    "# Remove variables and release all memory\n",
    "training_data = None\n",
    "training_labels = None\n",
    "training_targets = None\n",
    "train_data = None\n",
    "gc.collect()"
   ]
  },
  {
   "cell_type": "code",
   "execution_count": null,
   "metadata": {},
   "outputs": [],
   "source": [
    "# CREATE VALIDATION DATASET\n",
    "validation_labels, validation_data = load_audio(\"/data/musicnet/validation_chunks/\", 1, 2, composers)"
   ]
  },
  {
   "cell_type": "code",
   "execution_count": null,
   "metadata": {},
   "outputs": [],
   "source": [
    "# Turn labels to categorical (one-hot encoding)\n",
    "validation_labels_pd = pd.DataFrame(validation_labels)\n",
    "validation_onehot = pd.get_dummies(validation_labels_pd)\n",
    "validation_targets = validation_onehot.as_matrix()\n",
    "validation_targets.shape"
   ]
  },
  {
   "cell_type": "code",
   "execution_count": null,
   "metadata": {},
   "outputs": [],
   "source": [
    "# Store datasets as hdf5 files\n",
    "val_data = h5py.File('/data/musicnet/hdf5/val_data.hdf5', 'w')\n",
    "val_data.create_dataset('data', data=validation_data)\n",
    "val_data.create_dataset('targets', data=validation_targets)\n",
    "val_data.close()"
   ]
  },
  {
   "cell_type": "code",
   "execution_count": null,
   "metadata": {},
   "outputs": [],
   "source": [
    "# Remove variables and release all memory\n",
    "validation_data = None\n",
    "validation_labels = None\n",
    "validation_targets = None\n",
    "val_data = None\n",
    "gc.collect()"
   ]
  },
  {
   "cell_type": "code",
   "execution_count": null,
   "metadata": {},
   "outputs": [],
   "source": [
    "# CREATE TEST DATASET\n",
    "testing_labels, testing_data = load_audio(\"/data/musicnet/test_chunks/\", 1, 2, composers)"
   ]
  },
  {
   "cell_type": "code",
   "execution_count": null,
   "metadata": {},
   "outputs": [],
   "source": [
    "# Turn labels to categorical (one-hot encoding)\n",
    "testing_labels_pd = pd.DataFrame(testing_labels)\n",
    "testing_onehot = pd.get_dummies(testing_labels_pd)\n",
    "testing_targets = testing_onehot.as_matrix()\n",
    "testing_targets.shape"
   ]
  },
  {
   "cell_type": "code",
   "execution_count": null,
   "metadata": {},
   "outputs": [],
   "source": [
    "# Store datasets as hdf5 files\n",
    "test_data = h5py.File('/data/musicnet/hdf5/test_data.hdf5', 'w')\n",
    "test_data.create_dataset('data', data=testing_data)\n",
    "test_data.create_dataset('targets', data=testing_targets)\n",
    "test_data.close()"
   ]
  },
  {
   "cell_type": "code",
   "execution_count": null,
   "metadata": {},
   "outputs": [],
   "source": [
    "# Remove variables and release all memory\n",
    "testing_data = None\n",
    "testing_labels = None\n",
    "testing_targets = None\n",
    "test_data = None\n",
    "gc.collect()"
   ]
  },
  {
   "cell_type": "code",
   "execution_count": null,
   "metadata": {},
   "outputs": [],
   "source": [
    "# CONVOLUTIONAL NETWORK"
   ]
  },
  {
   "cell_type": "code",
   "execution_count": 6,
   "metadata": {},
   "outputs": [],
   "source": [
    "# Define a model whose first layer is a mel-spectrogram (from Kapre)\n",
    "from keras.models import Sequential\n",
    "from keras import layers\n",
    "from kapre.time_frequency import Melspectrogram\n",
    "from kapre.utils import Normalization2D\n",
    "from kapre.augmentation import AdditiveNoise"
   ]
  },
  {
   "cell_type": "code",
   "execution_count": 7,
   "metadata": {},
   "outputs": [],
   "source": [
    "# Code inspired by https://github.com/keunwoochoi/kapre\n",
    "input_shape = (1, 88200)\n",
    "sr = 44100\n",
    "\n",
    "model = Sequential()\n",
    "# A mel-spectrogram layer\n",
    "model.add(Melspectrogram(n_dft=512, n_hop=256, input_shape=input_shape,\n",
    "                         padding='same', sr=sr, n_mels=64,\n",
    "                         fmin=0.0, fmax=sr/2, power_melgram=1.0,\n",
    "                         return_decibel_melgram=False, trainable_fb=False,\n",
    "                         trainable_kernel=False,\n",
    "                         name='trainable_stft'))\n",
    "# Add some white noise\n",
    "model.add(AdditiveNoise(power=0.2))\n",
    "# Normalise it per-frequency\n",
    "model.add(Normalization2D(str_axis='batch')) # or 'channel', 'time', 'batch', 'data_sample'\n",
    "# Add convolution layers\n",
    "model.add(layers.Conv2D(16, (3, 3), activation = 'relu'))\n",
    "model.add(layers.Conv2D(16, (3, 3), activation = 'relu'))\n",
    "model.add(layers.MaxPooling2D((3,3)))\n",
    "model.add(layers.Dropout(rate=0.1))\n",
    "\n",
    "model.add(layers.Conv2D(32, (3, 3), activation = 'relu'))\n",
    "model.add(layers.Conv2D(32, (3, 3), activation = 'relu'))\n",
    "model.add(layers.MaxPooling2D((3,3)))\n",
    "model.add(layers.Dropout(rate=0.1))\n",
    "\n",
    "model.add(layers.Conv2D(64, (3, 3), activation = 'relu'))\n",
    "model.add(layers.MaxPooling2D((3,3)))\n",
    "model.add(layers.Dropout(rate=0.1))\n",
    "\n",
    "model.add(layers.Flatten())\n",
    "model.add(layers.Dense(10, activation='softmax'))"
   ]
  },
  {
   "cell_type": "code",
   "execution_count": 8,
   "metadata": {},
   "outputs": [],
   "source": [
    "# Load the training and validation data from hdf5\n",
    "training = h5py.File('/data/musicnet/hdf5/train_data.hdf5', 'r')\n",
    "validation = h5py.File('/data/musicnet/hdf5/val_data.hdf5', 'r')\n",
    "\n",
    "list(training.keys())\n",
    "training_data = training['data']\n",
    "training_targets = training['targets']\n",
    "\n",
    "list(validation.keys())\n",
    "validation_data = validation['data']\n",
    "validation_targets = validation['targets']"
   ]
  },
  {
   "cell_type": "code",
   "execution_count": 9,
   "metadata": {},
   "outputs": [],
   "source": [
    "# Compile model\n",
    "from keras import optimizers\n",
    "model.compile(optimizer = 'adam',\n",
    "              loss = 'categorical_crossentropy',\n",
    "              metrics=['accuracy'])"
   ]
  },
  {
   "cell_type": "code",
   "execution_count": 10,
   "metadata": {},
   "outputs": [
    {
     "name": "stdout",
     "output_type": "stream",
     "text": [
      "Train on 56449 samples, validate on 2765 samples\n",
      "Epoch 1/20\n",
      "56449/56449 [==============================] - 113s 2ms/step - loss: 1.4124 - acc: 0.5656 - val_loss: 2.5782 - val_acc: 0.2025\n",
      "Epoch 2/20\n",
      "56449/56449 [==============================] - 110s 2ms/step - loss: 1.2637 - acc: 0.5874 - val_loss: 2.3873 - val_acc: 0.2499\n",
      "Epoch 3/20\n",
      "56449/56449 [==============================] - 110s 2ms/step - loss: 1.1707 - acc: 0.6010 - val_loss: 2.3155 - val_acc: 0.2723\n",
      "Epoch 4/20\n",
      "56449/56449 [==============================] - 110s 2ms/step - loss: 1.1213 - acc: 0.6122 - val_loss: 2.3514 - val_acc: 0.2741\n",
      "Epoch 5/20\n",
      "56449/56449 [==============================] - 110s 2ms/step - loss: 1.0880 - acc: 0.6234 - val_loss: 2.2525 - val_acc: 0.3107\n",
      "Epoch 6/20\n",
      "56449/56449 [==============================] - 110s 2ms/step - loss: 1.0569 - acc: 0.6304 - val_loss: 2.2194 - val_acc: 0.3237\n",
      "Epoch 7/20\n",
      "56449/56449 [==============================] - 110s 2ms/step - loss: 1.0341 - acc: 0.6359 - val_loss: 2.2458 - val_acc: 0.3363\n",
      "Epoch 8/20\n",
      "56449/56449 [==============================] - 110s 2ms/step - loss: 1.0186 - acc: 0.6427 - val_loss: 2.2552 - val_acc: 0.3407\n",
      "Epoch 9/20\n",
      "56449/56449 [==============================] - 110s 2ms/step - loss: 1.0020 - acc: 0.6475 - val_loss: 2.3296 - val_acc: 0.3418\n",
      "Epoch 10/20\n",
      "56449/56449 [==============================] - 110s 2ms/step - loss: 0.9844 - acc: 0.6517 - val_loss: 2.2707 - val_acc: 0.3414\n",
      "Epoch 11/20\n",
      "56449/56449 [==============================] - 110s 2ms/step - loss: 0.9735 - acc: 0.6563 - val_loss: 2.3521 - val_acc: 0.3342\n",
      "Epoch 12/20\n",
      "56449/56449 [==============================] - 110s 2ms/step - loss: 0.9559 - acc: 0.6611 - val_loss: 2.4173 - val_acc: 0.3266\n",
      "Epoch 13/20\n",
      "56449/56449 [==============================] - 110s 2ms/step - loss: 0.9446 - acc: 0.6631 - val_loss: 2.4725 - val_acc: 0.3255\n",
      "Epoch 14/20\n",
      "56449/56449 [==============================] - 110s 2ms/step - loss: 0.9405 - acc: 0.6658 - val_loss: 2.4678 - val_acc: 0.3154\n",
      "Epoch 15/20\n",
      "56449/56449 [==============================] - 110s 2ms/step - loss: 0.8972 - acc: 0.6801 - val_loss: 2.3791 - val_acc: 0.3450\n",
      "Epoch 16/20\n",
      "56449/56449 [==============================] - 110s 2ms/step - loss: 0.8883 - acc: 0.6812 - val_loss: 2.4283 - val_acc: 0.3385\n",
      "Epoch 17/20\n",
      "56449/56449 [==============================] - 110s 2ms/step - loss: 0.8906 - acc: 0.6809 - val_loss: 2.3865 - val_acc: 0.3468\n",
      "Epoch 18/20\n",
      "56449/56449 [==============================] - 110s 2ms/step - loss: 0.8866 - acc: 0.6819 - val_loss: 2.4520 - val_acc: 0.3450\n",
      "Epoch 19/20\n",
      "56449/56449 [==============================] - 110s 2ms/step - loss: 0.8865 - acc: 0.6829 - val_loss: 2.4555 - val_acc: 0.3418\n",
      "Epoch 20/20\n",
      "56449/56449 [==============================] - 110s 2ms/step - loss: 0.8850 - acc: 0.6832 - val_loss: 2.4546 - val_acc: 0.3432\n"
     ]
    }
   ],
   "source": [
    "file_path=\"/home/ubuntu/code/trained_model/music/music-weights-improvement-{epoch:02d}-{val_loss:.4f}-{val_acc:.2f}.hdf5\"\n",
    "tensorboard_path = \"/home/ubuntu/code/tensorboard/\"\n",
    "\n",
    "callbacks_list = [\n",
    "        keras.callbacks.EarlyStopping(monitor='acc', patience=2,),\n",
    "        keras.callbacks.ModelCheckpoint(filepath=file_path, monitor='val_loss', save_best_only=True,),\n",
    "        keras.callbacks.ReduceLROnPlateau(monitor='val_loss', factor=0.1, patience=8,),\n",
    "        keras.callbacks.TensorBoard(log_dir=tensorboard_path, batch_size=32,)]\n",
    "\n",
    "history = model.fit(training_data, \n",
    "                    training_targets,\n",
    "                    epochs = 20,\n",
    "                    batch_size = 150,\n",
    "                    callbacks=callbacks_list,\n",
    "                    validation_data=(validation_data, validation_targets),\n",
    "                    shuffle=False)"
   ]
  },
  {
   "cell_type": "code",
   "execution_count": 11,
   "metadata": {},
   "outputs": [
    {
     "data": {
      "image/png": "[encoded data removed]",
      "text/plain": [
       "<Figure size 432x288 with 1 Axes>"
      ]
     },
     "metadata": {},
     "output_type": "display_data"
    }
   ],
   "source": [
    "import matplotlib.pyplot as plt\n",
    "import matplotlib.gridspec as gridspec\n",
    "\n",
    "# Total Loss\n",
    "loss = history.history['loss']\n",
    "val_loss = history.history['val_loss']\n",
    "epochs = range(1, len(loss) + 1)\n",
    "plt.plot(epochs, loss, 'bo', label='Training loss')\n",
    "plt.plot(epochs, val_loss, 'b', label='Validation loss')\n",
    "plt.title('Joint - Training and validation loss')\n",
    "plt.xlabel('Epochs')\n",
    "plt.ylabel('Loss')\n",
    "plt.legend()\n",
    "plt.show()"
   ]
  },
  {
   "cell_type": "code",
   "execution_count": 12,
   "metadata": {},
   "outputs": [
    {
     "data": {
      "image/png": "[encoded data removed]",
      "text/plain": [
       "<Figure size 432x288 with 1 Axes>"
      ]
     },
     "metadata": {},
     "output_type": "display_data"
    }
   ],
   "source": [
    "acc = history.history['acc']\n",
    "val_acc = history.history['val_acc']\n",
    "epochs = range(1, len(loss) + 1)\n",
    "plt.subplots(1)\n",
    "plt.plot(epochs, acc, 'bo', label='Training accuracy')\n",
    "plt.plot(epochs, val_acc, 'b', label='Validation accuracy')\n",
    "plt.title('Gender - Training and validation accuracy')\n",
    "plt.xlabel('Epochs')\n",
    "plt.ylabel('Loss')\n",
    "plt.legend()\n",
    "plt.show()"
   ]
  },
  {
   "cell_type": "code",
   "execution_count": 13,
   "metadata": {},
   "outputs": [],
   "source": [
    "# Do test predictions and compare performance with baseline\n",
    "test = h5py.File('/data/musicnet/hdf5/test_data.hdf5', 'r')\n",
    "\n",
    "list(test.keys())\n",
    "test_data = test['data']\n",
    "test_targets = test['targets']"
   ]
  },
  {
   "cell_type": "code",
   "execution_count": 14,
   "metadata": {},
   "outputs": [
    {
     "data": {
      "text/plain": [
       "(56449, 10)"
      ]
     },
     "execution_count": 14,
     "metadata": {},
     "output_type": "execute_result"
    }
   ],
   "source": [
    "training_targets.shape"
   ]
  },
  {
   "cell_type": "code",
   "execution_count": 15,
   "metadata": {},
   "outputs": [],
   "source": [
    "test_predictions = model.predict(test_data)"
   ]
  },
  {
   "cell_type": "code",
   "execution_count": 16,
   "metadata": {},
   "outputs": [],
   "source": [
    "test_predicted_labels = np.argmax(test_predictions, axis=1)\n",
    "test_target_labels = np.argmax(test_targets, axis=1)"
   ]
  },
  {
   "cell_type": "code",
   "execution_count": 17,
   "metadata": {
    "scrolled": true
   },
   "outputs": [
    {
     "name": "stdout",
     "output_type": "stream",
     "text": [
      "Accuracy  0.30814441645675905\n",
      "             precision    recall  f1-score   support\n",
      "\n",
      "          0       0.66      0.81      0.73       176\n",
      "          1       0.18      0.90      0.30       268\n",
      "          2       0.48      0.37      0.42       267\n",
      "          3       0.56      0.68      0.61       124\n",
      "          4       1.00      0.00      0.01       740\n",
      "          5       0.99      0.46      0.63       260\n",
      "          6       0.00      0.00      0.00       114\n",
      "          7       0.06      0.18      0.10        89\n",
      "          8       0.00      0.00      0.00       246\n",
      "          9       0.32      0.32      0.32        98\n",
      "\n",
      "avg / total       0.59      0.31      0.25      2382\n",
      "\n"
     ]
    },
    {
     "name": "stderr",
     "output_type": "stream",
     "text": [
      "/home/ubuntu/anaconda3/envs/tensorflow_p36/lib/python3.6/site-packages/sklearn/metrics/classification.py:1135: UndefinedMetricWarning: Precision and F-score are ill-defined and being set to 0.0 in labels with no predicted samples.\n",
      "  'precision', 'predicted', average, warn_for)\n"
     ]
    }
   ],
   "source": [
    "from sklearn.metrics import accuracy_score, roc_auc_score, classification_report\n",
    "print('Accuracy ', accuracy_score(test_target_labels, test_predicted_labels))\n",
    "print(classification_report(test_target_labels, test_predicted_labels))"
   ]
  },
  {
   "cell_type": "code",
   "execution_count": 18,
   "metadata": {},
   "outputs": [],
   "source": [
    "# Compare with baseline classifier (in this case we pick the most popular class)\n",
    "most_popular = np.argmax(np.bincount(test_target_labels))"
   ]
  },
  {
   "cell_type": "code",
   "execution_count": 19,
   "metadata": {},
   "outputs": [],
   "source": [
    "baseline_prediction = np.repeat(most_popular, test_target_labels.shape[0])"
   ]
  },
  {
   "cell_type": "code",
   "execution_count": 20,
   "metadata": {},
   "outputs": [
    {
     "name": "stdout",
     "output_type": "stream",
     "text": [
      "Accuracy  0.31066330814441645\n",
      "             precision    recall  f1-score   support\n",
      "\n",
      "          0       0.00      0.00      0.00       176\n",
      "          1       0.00      0.00      0.00       268\n",
      "          2       0.00      0.00      0.00       267\n",
      "          3       0.00      0.00      0.00       124\n",
      "          4       0.31      1.00      0.47       740\n",
      "          5       0.00      0.00      0.00       260\n",
      "          6       0.00      0.00      0.00       114\n",
      "          7       0.00      0.00      0.00        89\n",
      "          8       0.00      0.00      0.00       246\n",
      "          9       0.00      0.00      0.00        98\n",
      "\n",
      "avg / total       0.10      0.31      0.15      2382\n",
      "\n"
     ]
    },
    {
     "name": "stderr",
     "output_type": "stream",
     "text": [
      "/home/ubuntu/anaconda3/envs/tensorflow_p36/lib/python3.6/site-packages/sklearn/metrics/classification.py:1135: UndefinedMetricWarning: Precision and F-score are ill-defined and being set to 0.0 in labels with no predicted samples.\n",
      "  'precision', 'predicted', average, warn_for)\n"
     ]
    }
   ],
   "source": [
    "print('Accuracy ', accuracy_score(test_target_labels, baseline_prediction))\n",
    "print(classification_report(test_target_labels, baseline_prediction))"
   ]
  },
  {
   "cell_type": "code",
   "execution_count": 21,
   "metadata": {},
   "outputs": [],
   "source": [
    "# Compare with baseline classifier (predicting randomly based on popularity of each class)\n",
    "unique, counts = np.unique(test_target_labels, return_counts=True)\n",
    "props = counts / sum(counts)\n",
    "random_predictions = np.random.choice(10, test_target_labels.shape[0], props.any())"
   ]
  },
  {
   "cell_type": "code",
   "execution_count": 22,
   "metadata": {},
   "outputs": [
    {
     "name": "stdout",
     "output_type": "stream",
     "text": [
      "Accuracy  0.09361880772460117\n",
      "             precision    recall  f1-score   support\n",
      "\n",
      "          0       0.09      0.11      0.10       176\n",
      "          1       0.11      0.10      0.11       268\n",
      "          2       0.10      0.09      0.09       267\n",
      "          3       0.04      0.07      0.05       124\n",
      "          4       0.26      0.08      0.13       740\n",
      "          5       0.11      0.09      0.10       260\n",
      "          6       0.08      0.17      0.11       114\n",
      "          7       0.02      0.07      0.04        89\n",
      "          8       0.07      0.07      0.07       246\n",
      "          9       0.07      0.15      0.09        98\n",
      "\n",
      "avg / total       0.14      0.09      0.10      2382\n",
      "\n"
     ]
    }
   ],
   "source": [
    "print('Accuracy ', accuracy_score(test_target_labels, random_predictions))\n",
    "print(classification_report(test_target_labels, random_predictions))"
   ]
  },
  {
   "cell_type": "code",
   "execution_count": null,
   "metadata": {},
   "outputs": [],
   "source": []
  }
 ],
 "metadata": {
  "kernelspec": {
   "display_name": "Python [conda env:tensorflow_p36]",
   "language": "python",
   "name": "conda-env-tensorflow_p36-py"
  },
  "language_info": {
   "codemirror_mode": {
    "name": "ipython",
    "version": 3
   },
   "file_extension": ".py",
   "mimetype": "text/x-python",
   "name": "python",
   "nbconvert_exporter": "python",
   "pygments_lexer": "ipython3",
   "version": "3.6.5"
  }
 },
 "nbformat": 4,
 "nbformat_minor": 2
}
